{
  "nbformat": 4,
  "nbformat_minor": 0,
  "metadata": {
    "colab": {
      "provenance": [],
      "include_colab_link": true
    },
    "kernelspec": {
      "name": "python3",
      "display_name": "Python 3"
    },
    "language_info": {
      "name": "python"
    }
  },
  "cells": [
    {
      "cell_type": "markdown",
      "metadata": {
        "id": "view-in-github",
        "colab_type": "text"
      },
      "source": [
        "<a href=\"https://colab.research.google.com/github/d-m-bailey/ihp-mpw-be/blob/main/TO_202504.ipynb\" target=\"_parent\"><img src=\"https://colab.research.google.com/assets/colab-badge.svg\" alt=\"Open In Colab\"/></a>"
      ]
    },
    {
      "cell_type": "markdown",
      "source": [
        "# Backend Verification for the iHP April 2025 Open MPW Shuttle\n",
        "\n",
        "[D. Mitch Bailey](https://www.linkedin.com/in/mitch-bailey-cvc/) [ShuhariSystem](https://www.shuharisystem.com/)"
      ],
      "metadata": {
        "id": "KXrjYC7jYI-4"
      }
    },
    {
      "cell_type": "markdown",
      "source": [
        "# Overview\n",
        "This notebook performs backend LVS (with [klayout](https://github.com/KLayout/klayout) or [magic](https://github.com/RTimothyEdwards/magic)/[netgen](https://github.com/RTimothyEdwards/netgen)), soft-conneciton checks (with magic/netgen) and/or reliability verfication (with [CVC-RV](https://github.com/d-m-bailey/cvc)) with open source EDA software and systems."
      ],
      "metadata": {
        "id": "xPG5P8WSg42s"
      }
    },
    {
      "cell_type": "markdown",
      "source": [
        "# iHP Open-MPW Data\n",
        "The 17 submissions to iHp open mpw shuttle for April 2025 listed below are located [here](https://github.com/IHP-GmbH/TO_Apr2025).\n",
        "\n",
        "* 160GHz_LNA\n",
        "* 40_GHZ_LOW_NOISE_TIA\n",
        "* 6502-cpu\n",
        "* 97_GHZ_LINEAR_TIA\n",
        "* DC_to_130_GHz_TIA\n",
        "* GPS_LNA\n",
        "* Greyhound\n",
        "* Mixer5GHz\n",
        "* PA_180GHz\n",
        "* TTIHP0p2\n",
        "* TTIHP25a\n",
        "* VCO_130nm_LSI\n",
        "* active_L_VCOs\n",
        "* ascon\n",
        "* bandgap_ref_cmos\n",
        "* elemrv-n\n",
        "* i2c-gpio-expander\n",
        "\n"
      ],
      "metadata": {
        "id": "Nssto4gbqLr9"
      }
    },
    {
      "cell_type": "code",
      "source": [
        "%%writefile /content/env\n",
        "export LOCAL_INSTALL=/content/local\n",
        "export PATH=$PATH:$LOCAL_INSTALL/bin\n",
        "echo $PATH\n",
        "export PDK_ROOT=/content/pdks\n",
        "export PDK=ihp-sg13g2\n",
        "export PDKPATH=$PDK_ROOT/$PDK\n",
        "export PDK_COMMIT=ddb601a4a4473163e1ed6df416b885df18b4ac03\n",
        "export MAGIC_COMMIT=master\n",
        "export NETGEN_COMMIT=master\n",
        "export EXTRA_CHECK_COMMIT=main\n",
        "export CVC_COMMIT=master\n",
        "#export PRECHECK_ROOT=/content/mpw_precheck\n",
        "#export CARAVEL_ROOT=/content/caravel\n",
        "export UPRJ_ROOT=/content/data\n",
        "export LVS_ROOT=/content/extra_be_checks\n",
        "\n",
        "export MPW=TO_Apr2025\n",
        "export SLOT=slot-002\n",
        "export TOP=user_project_wrapper\n",
        "unset WORK_ROOT"
      ],
      "metadata": {
        "id": "nxpxjYy1zIkZ"
      },
      "execution_count": null,
      "outputs": []
    },
    {
      "cell_type": "markdown",
      "source": [
        "# User setup\n",
        "Only needs to be executed once.\n",
        "\n",
        "This step sets up the pdk and installs magic, klayout, netgen and cvc_rv."
      ],
      "metadata": {
        "id": "0zFjctvP3w1O"
      }
    },
    {
      "cell_type": "code",
      "source": [
        "%%shell\n",
        "cd\n",
        "cat /content/env\n",
        "source /content/env\n",
        "#pip install udocker\n",
        "if [[ ! -d $PDK_ROOT ]]; then\n",
        "  echo \"==> Installing ciel...\"\n",
        "  pip install ciel\n",
        "  #udocker --allow-root install\n",
        "  #rm -rf mpw_precheck\n",
        "  #git clone https://github.com/efabless/mpw_precheck.git $PRECHECK_ROOT\n",
        "  ciel enable --pdk $PDK $PDK_COMMIT\n",
        "  echo \"==> Using $PDK $PDK_COMMIT\"\n",
        "fi\n",
        "\n",
        "if [[ ! -d extra_be_checks ]]; then\n",
        "  echo \"==> Downloading extra_be_checks $EXTRA_CHECK_COMMIT\"\n",
        "  rm -rf extra_be_checks\n",
        "  git clone https://github.com/d-m-bailey/extra_be_checks.git -b $EXTRA_CHECK_COMMIT\n",
        "  #adduser lvs\n",
        "  #usermod -aG sudo lvs\n",
        "fi\n",
        "\n",
        "if [[ ! -d netgen ]]; then\n",
        "  echo \"==> Downloading and installing netgen $NETGEN_COMMIT\"\n",
        "  git clone https://github.com/RTimothyEdwards/netgen.git --depth=1 -b $NETGEN_COMMIT\n",
        "  cd netgen\n",
        "  ./configure --prefix=$LOCAL_INSTALL\n",
        "  make\n",
        "  make install\n",
        "  cd\n",
        "fi\n",
        "netgen -batch\n",
        "\n",
        "if [[ ! -d magic ]]; then\n",
        "  echo \"==> Downloading and installing magic $MAGIC_COMMIT\"\n",
        "  git clone https://github.com/RTimothyEdwards/magic.git --depth=1 -b $MAGIC_COMMIT\n",
        "  cd magic\n",
        "  autoreconf -vif\n",
        "  ./configure --prefix=$LOCAL_INSTALL\n",
        "  make\n",
        "  make install\n",
        "  cd\n",
        "fi\n",
        "magic -dnull -noc --version\n",
        "\n",
        "if [[ ! -d cvc ]]; then\n",
        "  echo \"==> Downloading and installing cvc_rv $CVC_COMMIT\"\n",
        "  sudo get-apt install autopoint\n",
        "  git clone https://github.com/d-m-bailey/cvc --depth=1 -b $CVC_COMMIT\n",
        "  cd cvc\n",
        "  autoreconf -vif\n",
        "  ./configure --prefix=$LOCAL_INSTALL --disable-nls\n",
        "  make\n",
        "  make install\n",
        "  cd\n",
        "fi\n",
        "cvc_rv -v"
      ],
      "metadata": {
        "id": "Gd7xF7Ssqkh9"
      },
      "execution_count": null,
      "outputs": []
    },
    {
      "cell_type": "markdown",
      "source": [
        "Create a script to extract the user_project_wrapper hierarchy as gds from the caravel oasis.\n",
        "\n",
        "Only needs to be run once."
      ],
      "metadata": {
        "id": "q2QVwYlH0dCI"
      }
    },
    {
      "cell_type": "code",
      "source": [
        "%%writefile oas2gds.py\n",
        "import pya\n",
        "\n",
        "app = pya.Application.instance()\n",
        "opt = pya.SaveLayoutOptions()\n",
        "layout_view = pya.Layout()\n",
        "\n",
        "input_layout = \"caravel.oas\"\n",
        "# Setting the name of the output file and setting the substitution character\n",
        "print(\"[INFO] Reading from \" + input_layout)\n",
        "\n",
        "# Reading the input file and writing it to the output file name\n",
        "layout_view.read(input_layout)\n",
        "for cell_it in layout_view.each_cell():\n",
        "    if cell_it.name.endswith(\"project_wrapper\"):\n",
        "        myIndex = layout_view.cell(cell_it.name).cell_index()\n",
        "        output = \"work/gds/\" + cell_it.name + \".gds.gz\"\n",
        "        opt.set_format_from_filename(output)\n",
        "        opt.oasis_substitution_char=''\n",
        "        break\n",
        "opt.select_cell(myIndex)\n",
        "print(\"[INFO] Writing \" + output)\n",
        "layout_view.write(output, opt)\n",
        "\n",
        "app.exit(0)"
      ],
      "metadata": {
        "id": "FxTNm4hy7F-K"
      },
      "execution_count": null,
      "outputs": []
    },
    {
      "cell_type": "markdown",
      "source": [
        "# Clone the design repo and create gds."
      ],
      "metadata": {
        "id": "3dCQ3asT1JeR"
      }
    },
    {
      "cell_type": "code",
      "source": [
        "%%shell\n",
        "cat /content/env\n",
        "source /content/env\n",
        "rm -rf data\n",
        "git clone https://foss-eda-tools.googlesource.com/third_party/shuttle/sky130/$MPW/$SLOT.git data\n",
        "rm -rf data/.git data/tapeout/outputs/gds\n",
        "if [[ -d oas ]]; then\n",
        "  ln -s $PWD/data/oas/cara*oas data/caravel.oas\n",
        "else\n",
        "  ln -s $PWD/data/tapeout/outputs/oas/cara*_*oas data/caravel.oas\n",
        "fi\n",
        "mkdir -p data/work/gds\n",
        "cd data\n",
        "cp ../oas2gds.py .\n",
        "chown -R lvs:lvs .\n",
        "sudo -u lvs udocker run -i -t -v $PWD:$PWD \\\n",
        "  -u $(id -u lvs):$(id -g lvs) \\\n",
        "  efabless/mpw_precheck:latest bash -c \"cd $PWD ; klayout -b -rm oas2gds.py\""
      ],
      "metadata": {
        "id": "Mk5M_rlrpVjg"
      },
      "execution_count": null,
      "outputs": []
    },
    {
      "cell_type": "markdown",
      "source": [
        "# List verilog and spice files"
      ],
      "metadata": {
        "id": "hrftOPIH1yN0"
      }
    },
    {
      "cell_type": "code",
      "source": [
        "%%shell\n",
        "source /content/env\n",
        "cd data\n",
        "find . -name '*.spice'\n",
        "find . -name '*.v'"
      ],
      "metadata": {
        "id": "4tto2vQbPMYF"
      },
      "execution_count": null,
      "outputs": []
    },
    {
      "cell_type": "markdown",
      "source": [
        "# Create lvs_config.json\n",
        "\n",
        "Update the TOP_LAYOUT, LVS_SPICE_FILES, LVS_VERILOG_FILES, and LAYOUT_FILE for every design.\n",
        "\n",
        "Update the other parameters as needed."
      ],
      "metadata": {
        "id": "UkyiD0Nd2Bby"
      }
    },
    {
      "cell_type": "code",
      "source": [
        "%%writefile lvs_config.json\n",
        "{\n",
        "        \"STD_CELL_LIBRARY\": \"sky130_fd_sc_hd\",\n",
        "        \"INCLUDE_CONFIGS\": [\n",
        "                \"$LVS_ROOT/tech/$PDK/lvs_config.base.json\"\n",
        "        ],\n",
        "        \"TOP_SOURCE\": \"$TOP\",\n",
        "        \"TOP_LAYOUT\": \"SJ_user_project_wrapper\",\n",
        "        \"EXTRACT_FLATGLOB\": [\n",
        "                \"\"\n",
        "        ],\n",
        "        \"EXTRACT_ABSTRACT\": [\n",
        "                \"\"\n",
        "        ],\n",
        "        \"LVS_FLATTEN\": [\n",
        "                \"\"\n",
        "        ],\n",
        "        \"LVS_NOFLATTEN\": [\n",
        "                \"\"\n",
        "        ],\n",
        "        \"LVS_IGNORE\": [\n",
        "                \"\"\n",
        "        ],\n",
        "        \"LVS_SPICE_FILES\": [\n",
        "                \"\"\n",
        "        ],\n",
        "        \"LVS_VERILOG_FILES\": [\n",
        "                \"$UPRJ_ROOT/verilog/gl/user_proj_example.v\",\n",
        "                \"$UPRJ_ROOT/verilog/gl/user_project_wrapper.v\"\n",
        "        ],\n",
        "        \"LAYOUT_FILE\": \"$UPRJ_ROOT/work/gds/SJ_user_project_wrapper.gds.gz\"\n",
        "}"
      ],
      "metadata": {
        "id": "-YDsClVCLAju"
      },
      "execution_count": null,
      "outputs": []
    },
    {
      "cell_type": "markdown",
      "source": [
        "# Run BE checks"
      ],
      "metadata": {
        "id": "2GSDoZMDUbLh"
      }
    },
    {
      "cell_type": "code",
      "source": [
        "%%shell\n",
        "cat /content/env\n",
        "source /content/env\n",
        "cd data\n",
        "gdspath=$(ls work/gds/*project_wrapper.gds.gz)\n",
        "gdsfile=${gdspath##*/}\n",
        "layout=${gdsfile%%.gds.gz}\n",
        "source=${layout//[A-Z0-9][A-Z0-9]_}\n",
        "echo \"Layout is $layout, source is $source\"\n",
        "cp $LVS_ROOT/tech/$PDK/cvc.power.$source work/cvc.power.$layout\n",
        "cp ../lvs_config.json lvs_config.json\n",
        "export INPUT_DIRECTORY=$PWD\n",
        "sudo -u lvs udocker run -i -t -v $PRECHECK_ROOT:$PRECHECK_ROOT \\\n",
        "  -v $INPUT_DIRECTORY:$INPUT_DIRECTORY \\\n",
        "  -v $LVS_ROOT:$LVS_ROOT \\\n",
        "  -v $PDK_ROOT:$PDK_ROOT \\\n",
        "  -e INPUT_DIRECTORY=$INPUT_DIRECTORY \\\n",
        "  -e PDK_PATH=$PDK_ROOT/$PDK \\\n",
        "  -e PDK=$PDK \\\n",
        "  -e TOP=$TOP \\\n",
        "  -e PDK_ROOT=$PDK_ROOT \\\n",
        "  -e UPRJ_ROOT=$UPRJ_ROOT \\\n",
        "  -e PDKPATH=$PDKPATH \\\n",
        "  -e LVS_ROOT=$LVS_ROOT \\\n",
        "  -e WORK_ROOT=$INPUT_DIRECTORY/work \\\n",
        "  -u $(id -u lvs):$(id -g lvs) \\\n",
        "  efabless/mpw_precheck:latest bash -c \"env; cd $INPUT_DIRECTORY ; $LVS_ROOT/run_be_checks lvs_config.json\"\n",
        "gunzip -f work/cvc.error.gz\n",
        "head -1 work/cvc.oeb.report > work/cvc.oeb.sort.report\n",
        "tail -n +2 work/cvc.oeb.report | sort -k1,1n >> work/cvc.oeb.sort.report"
      ],
      "metadata": {
        "id": "RjDeWGKj1b2g"
      },
      "execution_count": null,
      "outputs": []
    },
    {
      "cell_type": "markdown",
      "source": [
        "# View verification logs"
      ],
      "metadata": {
        "id": "OJ_zHIZ52-69"
      }
    },
    {
      "cell_type": "code",
      "source": [
        "from google.colab import files\n",
        "\n",
        "files.view('/content/data/work/soft.log')\n",
        "files.view('/content/data/work/lvs.log')\n",
        "files.view('/content/data/work/cvc.log')\n",
        "files.view('/content/data/work/cvc.oeb.log')"
      ],
      "metadata": {
        "id": "RihfaPqYxpuq"
      },
      "execution_count": null,
      "outputs": []
    },
    {
      "cell_type": "markdown",
      "source": [
        "# View soft verification report"
      ],
      "metadata": {
        "id": "BgzqD-4KjE9F"
      }
    },
    {
      "cell_type": "code",
      "source": [
        "from google.colab import files\n",
        "\n",
        "files.view('/content/data/work/soft.report')"
      ],
      "metadata": {
        "id": "DfG7DKXayaSi"
      },
      "execution_count": null,
      "outputs": []
    },
    {
      "cell_type": "markdown",
      "source": [
        "# View LVS report"
      ],
      "metadata": {
        "id": "ldCmn3atj1eq"
      }
    },
    {
      "cell_type": "code",
      "source": [
        "from google.colab import files\n",
        "\n",
        "files.view('/content/data/work/lvs.report')"
      ],
      "metadata": {
        "id": "UkUuHrX1jxdI"
      },
      "execution_count": null,
      "outputs": []
    },
    {
      "cell_type": "markdown",
      "source": [
        "# View CVC report"
      ],
      "metadata": {
        "id": "kJXQtZd1kKuj"
      }
    },
    {
      "cell_type": "code",
      "source": [
        "from google.colab import files\n",
        "\n",
        "files.view('/content/data/work/cvc.error')"
      ],
      "metadata": {
        "id": "l0mlcn6TkJ9z"
      },
      "execution_count": null,
      "outputs": []
    },
    {
      "cell_type": "markdown",
      "source": [
        "# View OEB report"
      ],
      "metadata": {
        "id": "qlSsZeFaksJ9"
      }
    },
    {
      "cell_type": "code",
      "source": [
        "from google.colab import files\n",
        "\n",
        "files.view('/content/data/work/cvc.oeb.sort.report')"
      ],
      "metadata": {
        "id": "l67MyFd9kvPr"
      },
      "execution_count": null,
      "outputs": []
    }
  ]
}