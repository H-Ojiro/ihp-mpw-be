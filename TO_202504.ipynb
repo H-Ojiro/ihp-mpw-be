{
  "nbformat": 4,
  "nbformat_minor": 0,
  "metadata": {
    "colab": {
      "provenance": [],
      "include_colab_link": true
    },
    "kernelspec": {
      "name": "python3",
      "display_name": "Python 3"
    },
    "language_info": {
      "name": "python"
    }
  },
  "cells": [
    {
      "cell_type": "markdown",
      "metadata": {
        "id": "view-in-github",
        "colab_type": "text"
      },
      "source": [
        "<a href=\"https://colab.research.google.com/github/d-m-bailey/ihp-mpw-be/blob/bandgap_ref_cmos/TO_202504.ipynb\" target=\"_parent\"><img src=\"https://colab.research.google.com/assets/colab-badge.svg\" alt=\"Open In Colab\"/></a>"
      ]
    },
    {
      "cell_type": "markdown",
      "source": [
        "# Backend Verification for the iHP April 2025 Open MPW Shuttle\n",
        "\n",
        "[D. Mitch Bailey](https://www.linkedin.com/in/mitch-bailey-cvc/) [ShuhariSystem](https://www.shuharisystem.com/)"
      ],
      "metadata": {
        "id": "KXrjYC7jYI-4"
      }
    },
    {
      "cell_type": "markdown",
      "source": [
        "# Overview\n",
        "This notebook performs backend LVS (with [klayout](https://github.com/KLayout/klayout) or [magic](https://github.com/RTimothyEdwards/magic)/[netgen](https://github.com/RTimothyEdwards/netgen)), soft-connection checks (with magic/netgen) and/or reliability verfication (with [CVC-RV](https://github.com/d-m-bailey/cvc)) with open source EDA software and systems."
      ],
      "metadata": {
        "id": "xPG5P8WSg42s"
      }
    },
    {
      "cell_type": "markdown",
      "source": [
        "# iHP Open-MPW Data\n",
        "The 17 submissions to iHp open mpw shuttle for April 2025 listed below are located [here](https://github.com/IHP-GmbH/TO_Apr2025).\n",
        "\n",
        "* 160GHz_LNA\n",
        "* 40_GHZ_LOW_NOISE_TIA\n",
        "* 6502-cpu\n",
        "* 97_GHZ_LINEAR_TIA\n",
        "* DC_to_130_GHz_TIA\n",
        "* GPS_LNA\n",
        "* Greyhound\n",
        "* Mixer5GHz\n",
        "* PA_180GHz\n",
        "* TTIHP0p2\n",
        "* TTIHP25a\n",
        "* VCO_130nm_LSI\n",
        "* active_L_VCOs\n",
        "* ascon\n",
        "* bandgap_ref_cmos\n",
        "* elemrv-n\n",
        "* i2c-gpio-expander\n",
        "\n",
        "Createa a file with the initial environment variables.\n"
      ],
      "metadata": {
        "id": "Nssto4gbqLr9"
      }
    },
    {
      "cell_type": "code",
      "source": [
        "%%writefile /content/env\n",
        "export LOCAL_INSTALL=/content/local\n",
        "export PATH=$PATH:$LOCAL_INSTALL/bin\n",
        "export PDK_ROOT=/content/pdks\n",
        "export PDK=ihp-sg13g2\n",
        "export PDKPATH=$PDK_ROOT/$PDK\n",
        "export PDK_COMMIT=ddb601a4a4473163e1ed6df416b885df18b4ac03\n",
        "export MAGIC_COMMIT=master\n",
        "export NETGEN_COMMIT=master\n",
        "export KLAYOUT_DISTRO=Ubuntu-22\n",
        "export KLAYOUT_DEB=klayout_0.30.1-1_amd64.deb\n",
        "export EXTRA_CHECK_COMMIT=ihp-sg13g2\n",
        "export CVC_COMMIT=master\n",
        "export UPRJ_ROOT=/content/data\n",
        "export LVS_ROOT=/root/extra_be_checks\n",
        "\n",
        "export MPW=TO_Apr2025\n",
        "export PROJECT=\n",
        "export GDSFILE=\n",
        "export LAYOUT_TOP=\n",
        "unset WORK_ROOT\n"
      ],
      "metadata": {
        "colab": {
          "base_uri": "https://localhost:8080/"
        },
        "id": "nxpxjYy1zIkZ",
        "outputId": "f4751709-187a-4f2b-e8d6-fd17dc5c9c37"
      },
      "execution_count": 34,
      "outputs": [
        {
          "output_type": "stream",
          "name": "stdout",
          "text": [
            "Overwriting /content/env\n"
          ]
        }
      ]
    },
    {
      "cell_type": "markdown",
      "source": [
        "# Program installation.\n",
        "Only needs to be executed once.\n",
        "\n",
        "This step sets up the pdk and installs magic, klayout, netgen and cvc_rv.\n",
        "\n",
        "(Takes about 3 minutes.)"
      ],
      "metadata": {
        "id": "0zFjctvP3w1O"
      }
    },
    {
      "cell_type": "code",
      "source": [
        "%%shell\n",
        "cd\n",
        "cat /content/env\n",
        "source /content/env\n",
        "\n",
        "lsb_release -a 2>/dev/null\n",
        "\n",
        "if [[ ! -d $PDK_ROOT ]]; then\n",
        "  echo \"==> Installing ciel...\"\n",
        "  pip install ciel\n",
        "fi\n",
        "ciel enable --pdk $PDK $PDK_COMMIT\n",
        "# patch for mimcap and antenna error in netgen setup file from pdk\n",
        "sed -i '/lsearch .cells2/,/circuit2/s/circuit1 .dev/circuit2 $dev/' $PDK_ROOT/$PDK/libs.tech/netgen/ihp-sg13g2_setup.tcl\n",
        "echo \"==> Using pdk $PDK commit $PDK_COMMIT (patched)\n",
        "\"\n",
        "\n",
        "if [[ ! -d extra_be_checks ]]; then\n",
        "  echo \"==> Downloading extra_be_checks $EXTRA_CHECK_COMMIT\"\n",
        "  rm -rf extra_be_checks\n",
        "  git clone https://github.com/d-m-bailey/extra_be_checks.git -b $EXTRA_CHECK_COMMIT\n",
        "fi\n",
        "echo \"==> Using extra_be_checks commit $(cd extra_be_checks; git rev-parse HEAD)\n",
        "\"\n",
        "\n",
        "if ! command -v netgen; then\n",
        "  echo \"==> Downloading and installing netgen $NETGEN_COMMIT\"\n",
        "  git clone https://github.com/RTimothyEdwards/netgen.git --depth=1 -b $NETGEN_COMMIT\n",
        "  cd netgen\n",
        "  ./configure --prefix=$LOCAL_INSTALL\n",
        "  make\n",
        "  make install\n",
        "  cd\n",
        "fi\n",
        "echo \"==> Using netgen version $(netgen -batch | awk '/Netgen/ {print $2}')\n",
        "\"\n",
        "\n",
        "if ! command -v magic; then\n",
        "  echo \"==> Downloading and installing magic $MAGIC_COMMIT\"\n",
        "  git clone https://github.com/RTimothyEdwards/magic.git --depth=1 -b $MAGIC_COMMIT\n",
        "  cd magic\n",
        "  ./configure --prefix=$LOCAL_INSTALL\n",
        "  make\n",
        "  make install\n",
        "  cd\n",
        "fi\n",
        "echo \"==> Using magic version $(magic -dnull -noc --version)\n",
        "\"\n",
        "\n",
        "if ! command -v klayout; then\n",
        "  echo \"==> Downloading and installing klayout $KLAYOUT_DEB for $KLAYOUT_DISTRO\"\n",
        "  wget -P /root https://www.klayout.org/downloads/$KLAYOUT_DISTRO/$KLAYOUT_DEB\n",
        "  sudo apt install /root/$KLAYOUT_DEB\n",
        "  cd\n",
        "fi\n",
        "echo \"==> Using $(klayout -v)\n",
        "\"\n",
        "\n",
        "if ! command -v cvc_rv; then\n",
        "  echo \"==> Downloading and installing cvc_rv $CVC_COMMIT\"\n",
        "  sudo apt install autopoint bison flex\n",
        "  git clone https://github.com/d-m-bailey/cvc --depth=1 -b $CVC_COMMIT\n",
        "  cd cvc\n",
        "  autoreconf -vif\n",
        "  ./configure --prefix=$LOCAL_INSTALL --disable-nls\n",
        "  make\n",
        "  make install\n",
        "  cd\n",
        "fi\n",
        "echo \"==> Using $(cvc_rv -v)\n",
        "\""
      ],
      "metadata": {
        "id": "Gd7xF7Ssqkh9",
        "colab": {
          "base_uri": "https://localhost:8080/"
        },
        "outputId": "33740089-d2ba-4135-976b-484ef0af4252"
      },
      "execution_count": 12,
      "outputs": [
        {
          "output_type": "stream",
          "name": "stdout",
          "text": [
            "export LOCAL_INSTALL=/content/local\n",
            "export PATH=$PATH:$LOCAL_INSTALL/bin\n",
            "echo $PATH\n",
            "export PDK_ROOT=/content/pdks\n",
            "export PDK=ihp-sg13g2\n",
            "export PDKPATH=$PDK_ROOT/$PDK\n",
            "export PDK_COMMIT=ddb601a4a4473163e1ed6df416b885df18b4ac03\n",
            "export MAGIC_COMMIT=master\n",
            "export NETGEN_COMMIT=master\n",
            "export KLAYOUT_DISTRO=Ubuntu-22\n",
            "export KLAYOUT_DEB=klayout_0.30.1-1_amd64.deb\n",
            "export EXTRA_CHECK_COMMIT=ihp-sg13g2\n",
            "export CVC_COMMIT=master\n",
            "#export PRECHECK_ROOT=/content/mpw_precheck\n",
            "#export CARAVEL_ROOT=/content/caravel\n",
            "export UPRJ_ROOT=/content/data\n",
            "export LVS_ROOT=/content/extra_be_checks\n",
            "\n",
            "export MPW=TO_Apr2025\n",
            "export SLOT=slot-002\n",
            "export TOP=user_project_wrapper\n",
            "unset WORK_ROOT\n",
            "/opt/bin:/usr/local/nvidia/bin:/usr/local/cuda/bin:/usr/local/sbin:/usr/local/bin:/usr/sbin:/usr/bin:/sbin:/bin:/tools/node/bin:/tools/google-cloud-sdk/bin:/content/local/bin\n",
            "No LSB modules are available.\n",
            "Distributor ID:\tUbuntu\n",
            "Description:\tUbuntu 22.04.4 LTS\n",
            "Release:\t22.04\n",
            "Codename:\tjammy\n",
            "\u001b[?25l\u001b[32m⠋\u001b[0m Enabling version ddb601a4a4473163e1ed6df416b885df18b4ac03…\n",
            "\u001b[1A\u001b[2KVersion ddb601a4a4473163e1ed6df416b885df18b4ac03 enabled for the ihp-sg13g2 PDK.\n",
            "==> Using pdk ihp-sg13g2 commit ddb601a4a4473163e1ed6df416b885df18b4ac03 (patched)\n",
            "\n",
            "==> Using extra_be_checks commit 895a40f5ba4aee557bdeb74f49836a757a3bba7f\n",
            "\n",
            "/content/local/bin/netgen\n",
            "==> Using netgen version 1.5.294\n",
            "\n",
            "/content/local/bin/magic\n",
            "==> Using magic version 8.3.526\n",
            "\n",
            "/usr/bin/klayout\n",
            "==> Using KLayout 0.30.1\n",
            "\n",
            "/content/local/bin/cvc_rv\n",
            "==> Using CVC: Circuit Validation Check  Version 1.1.5\n",
            "\n"
          ]
        },
        {
          "output_type": "execute_result",
          "data": {
            "text/plain": []
          },
          "metadata": {},
          "execution_count": 12
        }
      ]
    },
    {
      "cell_type": "markdown",
      "source": [
        "# Clone the design repo and list the gds files.\n",
        "\n",
        "Run to refresh the design data.\n",
        "GDS files are also saved in /content/filelist.txt."
      ],
      "metadata": {
        "id": "3dCQ3asT1JeR"
      }
    },
    {
      "cell_type": "code",
      "source": [
        "%%shell\n",
        "cat /content/env\n",
        "source /content/env\n",
        "rm -rf data\n",
        "git clone https://github.com/IHP-GmbH/$MPW.git data\n",
        "cd data\n",
        "# uncompress gds, spice, and verilog files\n",
        "find . -name \"*.gds.gz\" -o -name \"*.spice.gz\" -o -name \"*.v.gz\" -exec gunzip {} \\;\n",
        "find . -name \"*.gds.zip\" -o -name \"*.spice.zip\" -o -name \"*.v.zip\" -exec unzip {} \\;\n",
        "# Create a file listing the size, project and gds file name.\n",
        "# Only list files that end with .gds, .spice, or .v.\n",
        "tee /content/filelist.txt <<EOF\n",
        "   Size Project                   File\n",
        "------- ------------------------- ---------------------------------------------\n",
        "EOF\n",
        "ls -s $(find . -name \"*.gds\" -o -name \"*.spice\" -o -name \"*.v\") |\n",
        "  sed -e 's,\\./,,' -e 's,/, ,' |\n",
        "  awk '{printf \"%7d %-25s %s\\n\", $1, $2, $3}' |\n",
        "  tee -a /content/filelist.txt"
      ],
      "metadata": {
        "id": "Mk5M_rlrpVjg",
        "colab": {
          "base_uri": "https://localhost:8080/"
        },
        "outputId": "af3830b9-902a-4f09-fba1-f2120925cc85"
      },
      "execution_count": 29,
      "outputs": [
        {
          "output_type": "stream",
          "name": "stdout",
          "text": [
            "export LOCAL_INSTALL=/content/local\n",
            "export PATH=$PATH:$LOCAL_INSTALL/bin\n",
            "export PDK_ROOT=/content/pdks\n",
            "export PDK=ihp-sg13g2\n",
            "export PDKPATH=$PDK_ROOT/$PDK\n",
            "export PDK_COMMIT=ddb601a4a4473163e1ed6df416b885df18b4ac03\n",
            "export MAGIC_COMMIT=master\n",
            "export NETGEN_COMMIT=master\n",
            "export KLAYOUT_DISTRO=Ubuntu-22\n",
            "export KLAYOUT_DEB=klayout_0.30.1-1_amd64.deb\n",
            "export EXTRA_CHECK_COMMIT=ihp-sg13g2\n",
            "export CVC_COMMIT=master\n",
            "export UPRJ_ROOT=/content/data\n",
            "export LVS_ROOT=/content/extra_be_checks\n",
            "\n",
            "export MPW=TO_Apr2025\n",
            "unset WORK_ROOT\n",
            "export PROJECT=bandgap_ref_cmos\n",
            "export LAYOUT_TOP=full_bandgap\n",
            "export GDSFILE=design_data/gds/FMD_QNC_15_WeakInvBGR.gds\n",
            "Cloning into 'data'...\n",
            "remote: Enumerating objects: 3270, done.\u001b[K\n",
            "remote: Counting objects: 100% (175/175), done.\u001b[K\n",
            "remote: Compressing objects: 100% (32/32), done.\u001b[K\n",
            "remote: Total 3270 (delta 154), reused 149 (delta 143), pack-reused 3095 (from 2)\u001b[K\n",
            "Receiving objects: 100% (3270/3270), 784.55 MiB | 27.45 MiB/s, done.\n",
            "Resolving deltas: 100% (1503/1503), done.\n",
            "Updating files: 100% (886/886), done.\n",
            "   Size Project                   File\n",
            "------- ------------------------- ---------------------------------------------\n",
            "   6756 160GHz_LNA                design_data/gds/FMD_QNC_04_160GHz_LNA.gds\n",
            "   8568 160GHz_LNA                design_data/klayout/FMD_QNC_04_160GHz_LNA.gds\n",
            "   6532 40_GHZ_LOW_NOISE_TIA      design_data/gds/FMD_QNC_00_40_GHz_Low_Noise_TIA.gds\n",
            "   6532 40_GHZ_LOW_NOISE_TIA      design_data/klayout/40_GHz_Low_Noise_TIA.gds\n",
            "  10076 97_GHZ_LINEAR_TIA         design_data/gds/FMD_QNC_01_97_GHZ_LINEAR_TIA.gds\n",
            "  10076 97_GHZ_LINEAR_TIA         design_data/klayout/FMD_QNC_01_97_GHZ_LINEAR_TIA.gds\n",
            "   4576 bandgap_ref_cmos          design_data/gds/FMD_QNC_15_WeakInvBGR.gds\n",
            "      4 bandgap_ref_cmos          design_data/xschem/part_1_OTA/testbenches/simulations/ota_testbench_mc_mis.spice\n",
            "      4 bandgap_ref_cmos          design_data/xschem/part_2_full_bgr/simulations/bandgap_reference.spice\n",
            "   4300 DC_to_130_GHz_TIA         design_1/design_data/gds/FMD_QNC_03a_DC_to_130_GHz_TIA_Design.gds\n",
            "   4424 DC_to_130_GHz_TIA         design_2/design_data/gds/FMD_QNC_03b_2nd_Design_3_Stage.gds\n",
            "     80 elemrv-n                  design_data/src/AESMasked.v\n",
            "   1344 elemrv-n                  design_data/src/SG13G2Top.v\n",
            "  13968 GPS_LNA                   design_data/gds/FMD_QNC_10_gps_lns_fill.gds\n",
            "    524 GPS_LNA                   design_data/klayout/bias_inp.gds\n",
            "     84 GPS_LNA                   design_data/klayout/diodevdd_2kv.gds\n",
            "     84 GPS_LNA                   design_data/klayout/diodevss_2kv.gds\n",
            "  13972 GPS_LNA                   design_data/klayout/gps_lna_fill.gds\n",
            "  13160 GPS_LNA                   design_data/klayout/gps_lna.gds\n",
            "      8 GPS_LNA                   design_data/klayout/ind_2_36nH.gds\n",
            "     28 GPS_LNA                   design_data/klayout/ind_26_83nH.gds\n",
            "     36 GPS_LNA                   design_data/klayout/ind_39_0nH.gds\n",
            "  11556 GPS_LNA                   design_data/klayout/lna_full_base.gds\n",
            "   1364 GPS_LNA                   design_data/klayout/lna_nmos_base.gds\n",
            "  11416 GPS_LNA                   design_data/klayout/lna_npn_base.gds\n",
            "    560 GPS_LNA                   design_data/klayout/nmos_200_2.gds\n",
            "    132 GPS_LNA                   design_data/klayout/npn_60_2.gds\n",
            "  10564 GPS_LNA                   design_data/klayout/pad_diode_7.gds\n",
            "  10568 GPS_LNA                   design_data/klayout/pad_diode.gds\n",
            "  11556 GPS_LNA                   design_data/lvs/lna_full_base.gds\n",
            "   1596 GPS_LNA                   design_data/lvs/lna_full_base_lvs.gds\n",
            "  11956 GPS_LNA                   design_data/lvs/lna_nmos_base.gds\n",
            "   2712 GPS_LNA                   design_data/lvs/lna_nmos_base_lvs.gds\n",
            "  11416 GPS_LNA                   design_data/lvs/lna_npn_base.gds\n",
            "   1452 GPS_LNA                   design_data/lvs/lna_npn_base_lvs.gds\n",
            "  11416 GPS_LNA                   design_data/lvs/lna_npn_pad.gds\n",
            "  11416 GPS_LNA                   design_data/lvs/lna_npn_pad_lvs.gds\n",
            "    500 GPS_LNA                   design_data/lvs/parts/inp.gds\n",
            "    500 GPS_LNA                   design_data/lvs/parts/inp_lvs.gds\n",
            "    560 GPS_LNA                   design_data/lvs/parts/nmos_200_2.gds\n",
            "    500 GPS_LNA                   design_data/lvs/parts/nmos_200.gds\n",
            "    132 GPS_LNA                   design_data/lvs/parts/npn_60_2.gds\n",
            "     16 GPS_LNA                   design_data/lvs/parts/npn_60.gds\n",
            "  10564 GPS_LNA                   design_data/lvs/parts/pad_diode_7.gds\n",
            "  10568 GPS_LNA                   design_data/lvs/parts/pad_diode.gds\n",
            "      4 GPS_LNA                   design_data/lvs/parts/simulation/inp_lvs.spice\n",
            "      4 GPS_LNA                   design_data/lvs/parts/simulation/inp.spice\n",
            "      4 GPS_LNA                   design_data/lvs/parts/simulation/nmos_200_2.spice\n",
            "      4 GPS_LNA                   design_data/lvs/parts/simulation/nmos_200.spice\n",
            "      4 GPS_LNA                   design_data/lvs/parts/simulation/npn_60_2.spice\n",
            "      4 GPS_LNA                   design_data/lvs/parts/simulation/npn_60.spice\n",
            "      4 GPS_LNA                   design_data/lvs/parts/simulation/pad_diode_7.spice\n",
            "      4 GPS_LNA                   design_data/lvs/parts/simulation/pad_diode.spice\n",
            "      4 GPS_LNA                   design_data/lvs/parts/simulation/vbias_inp_lvs.spice\n",
            "      4 GPS_LNA                   design_data/lvs/parts/simulation/vbias.spice\n",
            "     40 GPS_LNA                   design_data/lvs/parts/vbias.gds\n",
            "    524 GPS_LNA                   design_data/lvs/parts/vbias_inp.gds\n",
            "    524 GPS_LNA                   design_data/lvs/parts/vbias_inp_lvs.gds\n",
            "      4 GPS_LNA                   design_data/lvs/simulation/lna_full_base_lvs.spice\n",
            "      4 GPS_LNA                   design_data/lvs/simulation/lna_nmos_base_lvs.spice\n",
            "      4 GPS_LNA                   design_data/lvs/simulation/lna_npn_base_lvs.spice\n",
            "      4 GPS_LNA                   design_data/lvs/simulation/lna_npn_pad_lvs.spice\n",
            "      8 GPS_LNA                   design_data/OpenEMS/ind_2_36nH/ind_sample_5u_2_1u_4N_flatten.gds\n",
            "      8 GPS_LNA                   design_data/OpenEMS/ind_2_36nH/ind_sample_5u_2_1u_4N.gds\n",
            "     24 GPS_LNA                   design_data/OpenEMS/ind_26_83nH/ind_sample_8u_3u_9N_flatten.gds\n",
            "     28 GPS_LNA                   design_data/OpenEMS/ind_26_83nH/ind_sample_8u_3u_9N.gds\n",
            "     36 GPS_LNA                   design_data/OpenEMS/ind_39_0nH/ind_sample_10u_3u_9N_flatten.gds\n",
            "     36 GPS_LNA                   design_data/OpenEMS/ind_39_0nH/ind_sample_10u_3u_9N.gds\n",
            "      4 GPS_LNA                   design_data/xyce/simulations/lna_tb_xyce_rf_npn_pad.spice\n",
            "      4 GPS_LNA                   design_data/xyce/simulations/lna_tb_xyce_rf_npn.spice\n",
            "      4 GPS_LNA                   design_data/xyce/simulations/lna_tb_xyce_rf_rfmos_pad.spice\n",
            "      4 GPS_LNA                   design_data/xyce/simulations/lna_tb_xyce_rf_rfmos.spice\n",
            "     44 i2c-gpio-expander         design_data/src/SG13G2Top.v\n",
            "  27392 Mixer5GHz                 design_data/gds/FMD_QNC_16_Mixer5GHz.gds\n",
            "      4 Mixer5GHz                 design_data/xschem/simulations/Mixer5GHz.spice\n",
            "   6704 PA_180GHz                 design_data/gds/FMD_QNC_07a_20dBm_Psat_two_way_power_amp_180GHz.gds\n",
            "   6072 PA_180GHz                 design_data/gds/FMD_QNC_07b_23dBm_Psat_four_way_power_amp_180GHz.gds\n",
            "  10028 VCO_130nm_LSI             design_data/gds/FMD_QNC_19_VCO.gds\n",
            "      4 VCO_130nm_LSI             design_data/xschem/simulations/SPICE_CS_VCO.spice\n"
          ]
        },
        {
          "output_type": "execute_result",
          "data": {
            "text/plain": []
          },
          "metadata": {},
          "execution_count": 29
        }
      ]
    },
    {
      "cell_type": "markdown",
      "source": [
        "# Set the project, top cell and gds file names."
      ],
      "metadata": {
        "id": "hrftOPIH1yN0"
      }
    },
    {
      "cell_type": "code",
      "source": [
        "%%shell\n",
        "# remove existing values before adding new ones\n",
        "sed -i -e '/^export PROJECT=/d' \\\n",
        "  -e '/^export LAYOUT_TOP=/d' \\\n",
        "  -e '/^export GDSFILE=/d' \\\n",
        "  /content/env\n",
        "cat >> /content/env <<EOF\n",
        "export PROJECT=bandgap_ref_cmos\n",
        "export LAYOUT_TOP=full_bandgap\n",
        "export GDSFILE=design_data/gds/FMD_QNC_15_WeakInvBGR.gds\n",
        "EOF"
      ],
      "metadata": {
        "colab": {
          "base_uri": "https://localhost:8080/"
        },
        "id": "4tto2vQbPMYF",
        "outputId": "43c5654b-5958-4ae5-de04-af46d3c544b0"
      },
      "execution_count": 25,
      "outputs": [
        {
          "output_type": "execute_result",
          "data": {
            "text/plain": []
          },
          "metadata": {},
          "execution_count": 25
        }
      ]
    },
    {
      "cell_type": "markdown",
      "source": [
        "# Create lvs_config.json\n",
        "\n",
        "Update the TOP_LAYOUT, LVS_SPICE_FILES, LVS_VERILOG_FILES, and LAYOUT_FILE for every design.\n",
        "\n",
        "Update the other parameters as needed."
      ],
      "metadata": {
        "id": "UkyiD0Nd2Bby"
      }
    },
    {
      "cell_type": "code",
      "source": [
        "%%writefile lvs_config.json\n",
        "{\n",
        "        \"PROJECT\": \"bandgap_ref_cmos\",\n",
        "        \"#STD_CELL_LIBRARY\": \"sky130_fd_sc_hd\",\n",
        "        \"#INCLUDE_CONFIGS\": [\n",
        "                \"$LVS_ROOT/tech/$PDK/lvs_config.base.json\"\n",
        "        ],\n",
        "        \"TOP_SOURCE\": \"bandgap_reference\",\n",
        "        \"TOP_LAYOUT\": \"full_bandgap\",\n",
        "        \"EXTRACT_FLATGLOB\": [ \"\" ],\n",
        "        \"EXTRACT_ABSTRACT\": [ \"\" ],\n",
        "        \"LVS_FLATTEN\": [ \"\" ],\n",
        "        \"LVS_NOFLATTEN\": [ \"\" ],\n",
        "        \"LVS_IGNORE\": [ \"\" ],\n",
        "        \"LVS_SPICE_FILES\": [ \"\" ],\n",
        "        \"#LVS_VERILOG_FILES\": [\n",
        "                \"$UPRJ_ROOT/verilog/gl/user_proj_example.v\",\n",
        "                \"$UPRJ_ROOT/verilog/gl/user_project_wrapper.v\"\n",
        "        ],\n",
        "        \"LAYOUT_FILE\": \"$UPRJ_ROOT/$PROJECT/design_data/gds/FMD_QNC_15_WeakInvBGR.gds\"\n",
        "}"
      ],
      "metadata": {
        "colab": {
          "base_uri": "https://localhost:8080/"
        },
        "id": "-YDsClVCLAju",
        "outputId": "ea0f9f31-45eb-482c-abe8-b95a0aa72c87"
      },
      "execution_count": 36,
      "outputs": [
        {
          "output_type": "stream",
          "name": "stdout",
          "text": [
            "Overwriting lvs_config.json\n"
          ]
        }
      ]
    },
    {
      "cell_type": "markdown",
      "source": [
        "# Run BE checks"
      ],
      "metadata": {
        "id": "2GSDoZMDUbLh"
      }
    },
    {
      "cell_type": "code",
      "source": [
        "%%shell\n",
        "cat /content/env\n",
        "source /content/env\n",
        "cd data\n",
        "export WORK_ROOT=$PWD/work\n",
        "rm -rf $WORK_ROOT\n",
        "mkdir $WORK_ROOT\n",
        "$LVS_ROOT/run_be_checks /content/lvs_config.json"
      ],
      "metadata": {
        "colab": {
          "base_uri": "https://localhost:8080/",
          "height": 1000
        },
        "id": "RjDeWGKj1b2g",
        "outputId": "8425f1f2-3270-46ef-84ac-350c685bbc56"
      },
      "execution_count": 37,
      "outputs": [
        {
          "output_type": "stream",
          "name": "stdout",
          "text": [
            "export LOCAL_INSTALL=/content/local\n",
            "export PATH=$PATH:$LOCAL_INSTALL/bin\n",
            "export PDK_ROOT=/content/pdks\n",
            "export PDK=ihp-sg13g2\n",
            "export PDKPATH=$PDK_ROOT/$PDK\n",
            "export PDK_COMMIT=ddb601a4a4473163e1ed6df416b885df18b4ac03\n",
            "export MAGIC_COMMIT=master\n",
            "export NETGEN_COMMIT=master\n",
            "export KLAYOUT_DISTRO=Ubuntu-22\n",
            "export KLAYOUT_DEB=klayout_0.30.1-1_amd64.deb\n",
            "export EXTRA_CHECK_COMMIT=ihp-sg13g2\n",
            "export CVC_COMMIT=master\n",
            "export UPRJ_ROOT=/content/data\n",
            "export LVS_ROOT=/root/extra_be_checks\n",
            "\n",
            "export MPW=TO_Apr2025\n",
            "export PROJECT=\n",
            "export GDSFILE=\n",
            "export LAYOUT_TOP=\n",
            "unset WORK_ROOT\n",
            "Loading LVS environment from /content/lvs_config.json\n",
            "\n",
            "TOP SOURCE: bandgap_reference\n",
            "SOURCE FILE(S): \n",
            "TOP LAYOUT: full_bandgap\n",
            "LAYOUT FILE: /content/data/bandgap_ref_cmos/design_data/gds/FMD_QNC_15_WeakInvBGR.gds\n",
            "EXTRACT_FLATGLOB: \n",
            "EXTRACT_ABSTRACT: \n",
            "LVS_FLATTEN: \n",
            "LVS_NOFLATTEN: \n",
            "LVS_IGNORE: \n",
            "WORK_ROOT   : /content/data/work\n",
            "LOG_ROOT    : /content/data/work\n",
            "SIGNOFF_ROOT: /content/data/work\n",
            " \n",
            "Running hierarchical comparison between verilog and layout...\n",
            "No verilog files...\n",
            "[INFO] Changing from /content/data/bandgap_ref_cmos/design_data/gds/FMD_QNC_15_WeakInvBGR.gds\n",
            "\tto /content/data/work/layout.txt\n",
            "Hierarchy check for bandgap_reference passed.\n",
            " \n",
            "Running soft connection check on layout...\n",
            "WARNING: Tech files do not match:\n",
            "grep: /root/extra_be_checks/tech/ihp-sg13g2/ihp-sg13g2.tech: No such file or directory\n",
            "/content/pdks/ihp-sg13g2/libs.tech/magic/ihp-sg13g2.tech: version 0.2.0\n",
            "Results may be incorrect. Contact efabless to update the soft connection rules.\n",
            "WORK_ROOT   : /content/data/work\n",
            "LOG_ROOT    : /content/data/work\n",
            "SIGNOFF_ROOT: /content/data/work\n",
            "TOP_LAYOUT: full_bandgap\n",
            "LAYOUT: /content/data/bandgap_ref_cmos/design_data/gds/FMD_QNC_15_WeakInvBGR.gds\n",
            "EXTRACT_FLATGLOB: \n",
            "EXTRACT_ABSTRACT: \n",
            "Extracting layout with well in background process. See /content/data/work/ext.log.\n",
            "Extracting layout without well in background process. See /content/data/work/nowell.ext.log.\n",
            "Netgen 1.5.294 compiled on Fri May  9 12:38:29 AM UTC 2025\n",
            "Warning: netgen command 'format' use fully-qualified name '::netgen::format'\n",
            "Warning: netgen command 'global' use fully-qualified name '::netgen::global'\n",
            "Reading netlist file /content/data/work/ext/full_bandgap.gds.nowell.spice\n",
            "Call to undefined subcircuit sg13_lv_pmos\n",
            "Creating placeholder cell definition.\n",
            "Call to undefined subcircuit sg13_lv_nmos\n",
            "Creating placeholder cell definition.\n",
            "Call to undefined subcircuit rppd\n",
            "Creating placeholder cell definition.\n",
            "Call to undefined subcircuit cap_cmim\n",
            "Creating placeholder cell definition.\n",
            "Reading netlist file /content/data/work/nowell.ext/full_bandgap.gds.nowell.spice\n",
            "Call to undefined subcircuit sg13_lv_pmos\n",
            "Creating placeholder cell definition.\n",
            "Call to undefined subcircuit sg13_lv_nmos\n",
            "Creating placeholder cell definition.\n",
            "Call to undefined subcircuit rppd\n",
            "Creating placeholder cell definition.\n",
            "Call to undefined subcircuit cap_cmim\n",
            "Creating placeholder cell definition.\n",
            "\n",
            "Reading setup file /content/pdks/ihp-sg13g2/libs.tech/netgen/ihp-sg13g2_setup.tcl\n",
            "\n",
            "Model rppd pin 1 == 2\n",
            "No property b found for device rppd\n",
            "Model rppd pin 1 == 2\n",
            "No property b found for device rppd\n",
            "Model sg13_lv_nmos pin 1 == 3\n",
            "No property ng found for device sg13_lv_nmos\n",
            "No property trise found for device sg13_lv_nmos\n",
            "No property z1 found for device sg13_lv_nmos\n",
            "No property z2 found for device sg13_lv_nmos\n",
            "No property wmin found for device sg13_lv_nmos\n",
            "No property rfmode found for device sg13_lv_nmos\n",
            "No property pre_layout found for device sg13_lv_nmos\n",
            "Model sg13_lv_nmos pin 1 == 3\n",
            "No property ng found for device sg13_lv_nmos\n",
            "No property trise found for device sg13_lv_nmos\n",
            "No property z1 found for device sg13_lv_nmos\n",
            "No property z2 found for device sg13_lv_nmos\n",
            "No property wmin found for device sg13_lv_nmos\n",
            "No property rfmode found for device sg13_lv_nmos\n",
            "No property pre_layout found for device sg13_lv_nmos\n",
            "Model sg13_lv_pmos pin 1 == 3\n",
            "No property ng found for device sg13_lv_pmos\n",
            "No property trise found for device sg13_lv_pmos\n",
            "No property z1 found for device sg13_lv_pmos\n",
            "No property z2 found for device sg13_lv_pmos\n",
            "No property wmin found for device sg13_lv_pmos\n",
            "No property rfmode found for device sg13_lv_pmos\n",
            "No property pre_layout found for device sg13_lv_pmos\n",
            "Model sg13_lv_pmos pin 1 == 3\n",
            "No property ng found for device sg13_lv_pmos\n",
            "No property trise found for device sg13_lv_pmos\n",
            "No property z1 found for device sg13_lv_pmos\n",
            "No property z2 found for device sg13_lv_pmos\n",
            "No property wmin found for device sg13_lv_pmos\n",
            "No property rfmode found for device sg13_lv_pmos\n",
            "No property pre_layout found for device sg13_lv_pmos\n",
            "No property ic found for device cap_cmim\n",
            "No property ic found for device cap_cmim\n",
            "Comparison output logged to file /content/data/work/soft.report\n",
            "Logging to file \"/content/data/work/soft.report\" enabled\n",
            "Circuit sg13_lv_pmos contains no devices.\n",
            "Circuit sg13_lv_nmos contains no devices.\n",
            "Circuit rppd contains no devices.\n",
            "Circuit cap_cmim contains no devices.\n",
            "\n",
            "Contents of circuit 1:  Circuit: 'full_bandgap'\n",
            "Circuit full_bandgap contains 54 device instances.\n",
            "  Class: sg13_lv_pmos          instances:  14\n",
            "  Class: rppd                  instances:  17\n",
            "  Class: sg13_lv_nmos          instances:   6\n",
            "  Class: cap_cmim              instances:  17\n",
            "Circuit contains 28 nets.\n",
            "Contents of circuit 2:  Circuit: 'full_bandgap'\n",
            "Circuit full_bandgap contains 54 device instances.\n",
            "  Class: sg13_lv_pmos          instances:  14\n",
            "  Class: rppd                  instances:  17\n",
            "  Class: sg13_lv_nmos          instances:   6\n",
            "  Class: cap_cmim              instances:  17\n",
            "Circuit contains 28 nets.\n",
            "\n",
            "Circuit was modified by parallel/series device merging.\n",
            "New circuit summary:\n",
            "\n",
            "Contents of circuit 1:  Circuit: 'full_bandgap'\n",
            "Circuit full_bandgap contains 26 device instances.\n",
            "  Class: sg13_lv_pmos          instances:  14\n",
            "  Class: rppd                  instances:   3\n",
            "  Class: sg13_lv_nmos          instances:   6\n",
            "  Class: cap_cmim              instances:   3\n",
            "Circuit contains 14 nets.\n",
            "Contents of circuit 2:  Circuit: 'full_bandgap'\n",
            "Circuit full_bandgap contains 26 device instances.\n",
            "  Class: sg13_lv_pmos          instances:  14\n",
            "  Class: rppd                  instances:   3\n",
            "  Class: sg13_lv_nmos          instances:   6\n",
            "  Class: cap_cmim              instances:   3\n",
            "Circuit contains 14 nets.\n",
            "\n",
            "Circuit 1 contains 26 devices, Circuit 2 contains 26 devices.\n",
            "Circuit 1 contains 13 nets,    Circuit 2 contains 13 nets.\n",
            "\n",
            "No more changes can be made to series/parallel networks.\n",
            "\n",
            "Final result: \n",
            "Circuits match uniquely.\n",
            ".\n",
            "Logging to file \"/content/data/work/soft.report\" disabled\n",
            "LVS Done.\n",
            " \n",
            "Running LVS...\n",
            "TOP SOURCE: bandgap_reference\n",
            "SOURCE FILE(S): \n",
            "TOP LAYOUT: full_bandgap\n",
            "LAYOUT FILE: /content/data/bandgap_ref_cmos/design_data/gds/FMD_QNC_15_WeakInvBGR.gds\n",
            "EXTRACT_FLATGLOB: \n",
            "EXTRACT_ABSTRACT: \n",
            "LVS_FLATTEN: \n",
            "LVS_NOFLATTEN: \n",
            "LVS_IGNORE: \n",
            "WORK_ROOT   : /content/data/work\n",
            "LOG_ROOT    : /content/data/work\n",
            "SIGNOFF_ROOT: /content/data/work\n",
            "Reusing /content/data/work/ext/full_bandgap.gds.spice.\n",
            " \n",
            "Netgen 1.5.294 compiled on Fri May  9 12:38:29 AM UTC 2025\n",
            "Warning: netgen command 'format' use fully-qualified name '::netgen::format'\n",
            "Warning: netgen command 'global' use fully-qualified name '::netgen::global'\n",
            "Reading layout /content/data/work/ext/full_bandgap.gds.spice...\n",
            "Call to undefined subcircuit sg13_lv_pmos\n",
            "Creating placeholder cell definition.\n",
            "Call to undefined subcircuit sg13_lv_nmos\n",
            "Creating placeholder cell definition.\n",
            "Call to undefined subcircuit rppd\n",
            "Creating placeholder cell definition.\n",
            "Call to undefined subcircuit cap_cmim\n",
            "Creating placeholder cell definition.\n",
            "Treating empty subcircuits as black-box cells\n",
            "Generating JSON file result\n",
            "Reading netlist file 1\n",
            "wrong # args: should be \"netgen::readnet ?format? file ?filenum?\"\n",
            "    while executing\n",
            "\"netgen::readnet $file2\"\n",
            "    (procedure \"lvs\" line 75)\n",
            "    invoked from within\n",
            "\"lvs \"$layout full_bandgap\" \"$source bandgap_reference\" /content/data/work/ihp-sg13g2_setup.tcl /content/data/work/lvs.report -blackbox -json -noflatte...\"\n",
            "    (file \"/content/data/work/lvs.script\" line 4)\n",
            "    invoked from within\n",
            "\"source /content/data/work/lvs.script\"\n",
            "    (\"eval\" body line 1)\n",
            "    invoked from within\n",
            "\"eval $argv\"\n",
            "awk: cannot open /content/data/work/lvs.report (No such file or directory)\n",
            "awk: cannot open /root/extra_be_checks/tech/ihp-sg13g2/known_abstract_filter.awk (No such file or directory)\n",
            "grep: /content/data/work/lvs.report: No such file or directory\n",
            "\n",
            "Error: netgen did not complete.\n",
            "\n",
            "Soft check result:\n",
            "Final result: \n",
            "Circuits match uniquely.\n",
            ".\n",
            "\n",
            "LVS result:\n",
            "LVS problem: check the following files\n",
            "/content/data/work/ext.log\n",
            "/content/data/work/lvs.log\n",
            "/content/data/work/lvs.report\n",
            "\n",
            "Runtime: 0:00:24 (hh:mm:ss)\n",
            "\n",
            "WARNING: possible errors SOFT 0 LVS 4 CVC  OEB \n"
          ]
        },
        {
          "output_type": "error",
          "ename": "CalledProcessError",
          "evalue": "Command 'cat /content/env\nsource /content/env\ncd data\nexport WORK_ROOT=$PWD/work\nrm -rf $WORK_ROOT\nmkdir $WORK_ROOT\n$LVS_ROOT/run_be_checks /content/lvs_config.json\n' returned non-zero exit status 1.",
          "traceback": [
            "\u001b[0;31m---------------------------------------------------------------------------\u001b[0m",
            "\u001b[0;31mCalledProcessError\u001b[0m                        Traceback (most recent call last)",
            "\u001b[0;32m<ipython-input-37-a429b5e9239c>\u001b[0m in \u001b[0;36m<cell line: 0>\u001b[0;34m()\u001b[0m\n\u001b[0;32m----> 1\u001b[0;31m \u001b[0mget_ipython\u001b[0m\u001b[0;34m(\u001b[0m\u001b[0;34m)\u001b[0m\u001b[0;34m.\u001b[0m\u001b[0mrun_cell_magic\u001b[0m\u001b[0;34m(\u001b[0m\u001b[0;34m'shell'\u001b[0m\u001b[0;34m,\u001b[0m \u001b[0;34m''\u001b[0m\u001b[0;34m,\u001b[0m \u001b[0;34m'cat /content/env\\nsource /content/env\\ncd data\\nexport WORK_ROOT=$PWD/work\\nrm -rf $WORK_ROOT\\nmkdir $WORK_ROOT\\n$LVS_ROOT/run_be_checks /content/lvs_config.json\\n'\u001b[0m\u001b[0;34m)\u001b[0m\u001b[0;34m\u001b[0m\u001b[0;34m\u001b[0m\u001b[0m\n\u001b[0m",
            "\u001b[0;32m/usr/local/lib/python3.11/dist-packages/google/colab/_shell.py\u001b[0m in \u001b[0;36mrun_cell_magic\u001b[0;34m(self, magic_name, line, cell)\u001b[0m\n\u001b[1;32m    356\u001b[0m     \u001b[0;32mif\u001b[0m \u001b[0mline\u001b[0m \u001b[0;32mand\u001b[0m \u001b[0;32mnot\u001b[0m \u001b[0mcell\u001b[0m\u001b[0;34m:\u001b[0m\u001b[0;34m\u001b[0m\u001b[0;34m\u001b[0m\u001b[0m\n\u001b[1;32m    357\u001b[0m       \u001b[0mcell\u001b[0m \u001b[0;34m=\u001b[0m \u001b[0;34m' '\u001b[0m\u001b[0;34m\u001b[0m\u001b[0;34m\u001b[0m\u001b[0m\n\u001b[0;32m--> 358\u001b[0;31m     \u001b[0;32mreturn\u001b[0m \u001b[0msuper\u001b[0m\u001b[0;34m(\u001b[0m\u001b[0;34m)\u001b[0m\u001b[0;34m.\u001b[0m\u001b[0mrun_cell_magic\u001b[0m\u001b[0;34m(\u001b[0m\u001b[0mmagic_name\u001b[0m\u001b[0;34m,\u001b[0m \u001b[0mline\u001b[0m\u001b[0;34m,\u001b[0m \u001b[0mcell\u001b[0m\u001b[0;34m)\u001b[0m\u001b[0;34m\u001b[0m\u001b[0;34m\u001b[0m\u001b[0m\n\u001b[0m\u001b[1;32m    359\u001b[0m \u001b[0;34m\u001b[0m\u001b[0m\n\u001b[1;32m    360\u001b[0m \u001b[0;34m\u001b[0m\u001b[0m\n",
            "\u001b[0;32m/usr/local/lib/python3.11/dist-packages/IPython/core/interactiveshell.py\u001b[0m in \u001b[0;36mrun_cell_magic\u001b[0;34m(self, magic_name, line, cell)\u001b[0m\n\u001b[1;32m   2471\u001b[0m             \u001b[0;32mwith\u001b[0m \u001b[0mself\u001b[0m\u001b[0;34m.\u001b[0m\u001b[0mbuiltin_trap\u001b[0m\u001b[0;34m:\u001b[0m\u001b[0;34m\u001b[0m\u001b[0;34m\u001b[0m\u001b[0m\n\u001b[1;32m   2472\u001b[0m                 \u001b[0margs\u001b[0m \u001b[0;34m=\u001b[0m \u001b[0;34m(\u001b[0m\u001b[0mmagic_arg_s\u001b[0m\u001b[0;34m,\u001b[0m \u001b[0mcell\u001b[0m\u001b[0;34m)\u001b[0m\u001b[0;34m\u001b[0m\u001b[0;34m\u001b[0m\u001b[0m\n\u001b[0;32m-> 2473\u001b[0;31m                 \u001b[0mresult\u001b[0m \u001b[0;34m=\u001b[0m \u001b[0mfn\u001b[0m\u001b[0;34m(\u001b[0m\u001b[0;34m*\u001b[0m\u001b[0margs\u001b[0m\u001b[0;34m,\u001b[0m \u001b[0;34m**\u001b[0m\u001b[0mkwargs\u001b[0m\u001b[0;34m)\u001b[0m\u001b[0;34m\u001b[0m\u001b[0;34m\u001b[0m\u001b[0m\n\u001b[0m\u001b[1;32m   2474\u001b[0m             \u001b[0;32mreturn\u001b[0m \u001b[0mresult\u001b[0m\u001b[0;34m\u001b[0m\u001b[0;34m\u001b[0m\u001b[0m\n\u001b[1;32m   2475\u001b[0m \u001b[0;34m\u001b[0m\u001b[0m\n",
            "\u001b[0;32m/usr/local/lib/python3.11/dist-packages/google/colab/_system_commands.py\u001b[0m in \u001b[0;36m_shell_cell_magic\u001b[0;34m(args, cmd)\u001b[0m\n\u001b[1;32m    110\u001b[0m   \u001b[0mresult\u001b[0m \u001b[0;34m=\u001b[0m \u001b[0m_run_command\u001b[0m\u001b[0;34m(\u001b[0m\u001b[0mcmd\u001b[0m\u001b[0;34m,\u001b[0m \u001b[0mclear_streamed_output\u001b[0m\u001b[0;34m=\u001b[0m\u001b[0;32mFalse\u001b[0m\u001b[0;34m)\u001b[0m\u001b[0;34m\u001b[0m\u001b[0;34m\u001b[0m\u001b[0m\n\u001b[1;32m    111\u001b[0m   \u001b[0;32mif\u001b[0m \u001b[0;32mnot\u001b[0m \u001b[0mparsed_args\u001b[0m\u001b[0;34m.\u001b[0m\u001b[0mignore_errors\u001b[0m\u001b[0;34m:\u001b[0m\u001b[0;34m\u001b[0m\u001b[0;34m\u001b[0m\u001b[0m\n\u001b[0;32m--> 112\u001b[0;31m     \u001b[0mresult\u001b[0m\u001b[0;34m.\u001b[0m\u001b[0mcheck_returncode\u001b[0m\u001b[0;34m(\u001b[0m\u001b[0;34m)\u001b[0m\u001b[0;34m\u001b[0m\u001b[0;34m\u001b[0m\u001b[0m\n\u001b[0m\u001b[1;32m    113\u001b[0m   \u001b[0;32mreturn\u001b[0m \u001b[0mresult\u001b[0m\u001b[0;34m\u001b[0m\u001b[0;34m\u001b[0m\u001b[0m\n\u001b[1;32m    114\u001b[0m \u001b[0;34m\u001b[0m\u001b[0m\n",
            "\u001b[0;32m/usr/local/lib/python3.11/dist-packages/google/colab/_system_commands.py\u001b[0m in \u001b[0;36mcheck_returncode\u001b[0;34m(self)\u001b[0m\n\u001b[1;32m    135\u001b[0m   \u001b[0;32mdef\u001b[0m \u001b[0mcheck_returncode\u001b[0m\u001b[0;34m(\u001b[0m\u001b[0mself\u001b[0m\u001b[0;34m)\u001b[0m\u001b[0;34m:\u001b[0m\u001b[0;34m\u001b[0m\u001b[0;34m\u001b[0m\u001b[0m\n\u001b[1;32m    136\u001b[0m     \u001b[0;32mif\u001b[0m \u001b[0mself\u001b[0m\u001b[0;34m.\u001b[0m\u001b[0mreturncode\u001b[0m\u001b[0;34m:\u001b[0m\u001b[0;34m\u001b[0m\u001b[0;34m\u001b[0m\u001b[0m\n\u001b[0;32m--> 137\u001b[0;31m       raise subprocess.CalledProcessError(\n\u001b[0m\u001b[1;32m    138\u001b[0m           \u001b[0mreturncode\u001b[0m\u001b[0;34m=\u001b[0m\u001b[0mself\u001b[0m\u001b[0;34m.\u001b[0m\u001b[0mreturncode\u001b[0m\u001b[0;34m,\u001b[0m \u001b[0mcmd\u001b[0m\u001b[0;34m=\u001b[0m\u001b[0mself\u001b[0m\u001b[0;34m.\u001b[0m\u001b[0margs\u001b[0m\u001b[0;34m,\u001b[0m \u001b[0moutput\u001b[0m\u001b[0;34m=\u001b[0m\u001b[0mself\u001b[0m\u001b[0;34m.\u001b[0m\u001b[0moutput\u001b[0m\u001b[0;34m\u001b[0m\u001b[0;34m\u001b[0m\u001b[0m\n\u001b[1;32m    139\u001b[0m       )\n",
            "\u001b[0;31mCalledProcessError\u001b[0m: Command 'cat /content/env\nsource /content/env\ncd data\nexport WORK_ROOT=$PWD/work\nrm -rf $WORK_ROOT\nmkdir $WORK_ROOT\n$LVS_ROOT/run_be_checks /content/lvs_config.json\n' returned non-zero exit status 1."
          ]
        }
      ]
    },
    {
      "cell_type": "markdown",
      "source": [
        "# View verification logs"
      ],
      "metadata": {
        "id": "OJ_zHIZ52-69"
      }
    },
    {
      "cell_type": "code",
      "source": [
        "from google.colab import files\n",
        "\n",
        "files.view('/content/data/work/soft.log')\n",
        "files.view('/content/data/work/lvs.log')\n",
        "files.view('/content/data/work/cvc.log')\n",
        "files.view('/content/data/work/cvc.oeb.log')"
      ],
      "metadata": {
        "colab": {
          "base_uri": "https://localhost:8080/",
          "height": 17
        },
        "id": "RihfaPqYxpuq",
        "outputId": "f374a9d7-afff-4ade-d26d-f34589dc2110"
      },
      "execution_count": null,
      "outputs": [
        {
          "output_type": "display_data",
          "data": {
            "text/plain": [
              "<IPython.core.display.Javascript object>"
            ],
            "application/javascript": [
              "\n",
              "      ((filepath) => {{\n",
              "        if (!google.colab.kernel.accessAllowed) {{\n",
              "          return;\n",
              "        }}\n",
              "        google.colab.files.view(filepath);\n",
              "      }})(\"/content/data/work/soft.log\")"
            ]
          },
          "metadata": {}
        },
        {
          "output_type": "display_data",
          "data": {
            "text/plain": [
              "<IPython.core.display.Javascript object>"
            ],
            "application/javascript": [
              "\n",
              "      ((filepath) => {{\n",
              "        if (!google.colab.kernel.accessAllowed) {{\n",
              "          return;\n",
              "        }}\n",
              "        google.colab.files.view(filepath);\n",
              "      }})(\"/content/data/work/lvs.log\")"
            ]
          },
          "metadata": {}
        },
        {
          "output_type": "display_data",
          "data": {
            "text/plain": [
              "<IPython.core.display.Javascript object>"
            ],
            "application/javascript": [
              "\n",
              "      ((filepath) => {{\n",
              "        if (!google.colab.kernel.accessAllowed) {{\n",
              "          return;\n",
              "        }}\n",
              "        google.colab.files.view(filepath);\n",
              "      }})(\"/content/data/work/cvc.log\")"
            ]
          },
          "metadata": {}
        },
        {
          "output_type": "display_data",
          "data": {
            "text/plain": [
              "<IPython.core.display.Javascript object>"
            ],
            "application/javascript": [
              "\n",
              "      ((filepath) => {{\n",
              "        if (!google.colab.kernel.accessAllowed) {{\n",
              "          return;\n",
              "        }}\n",
              "        google.colab.files.view(filepath);\n",
              "      }})(\"/content/data/work/cvc.oeb.log\")"
            ]
          },
          "metadata": {}
        }
      ]
    },
    {
      "cell_type": "markdown",
      "source": [
        "# View soft verification report"
      ],
      "metadata": {
        "id": "BgzqD-4KjE9F"
      }
    },
    {
      "cell_type": "code",
      "source": [
        "from google.colab import files\n",
        "\n",
        "files.view('/content/data/work/soft.report')"
      ],
      "metadata": {
        "colab": {
          "base_uri": "https://localhost:8080/",
          "height": 17
        },
        "id": "DfG7DKXayaSi",
        "outputId": "7146aaad-a738-4d95-909c-a4db2ab7afbb"
      },
      "execution_count": null,
      "outputs": [
        {
          "output_type": "display_data",
          "data": {
            "text/plain": [
              "<IPython.core.display.Javascript object>"
            ],
            "application/javascript": [
              "\n",
              "      ((filepath) => {{\n",
              "        if (!google.colab.kernel.accessAllowed) {{\n",
              "          return;\n",
              "        }}\n",
              "        google.colab.files.view(filepath);\n",
              "      }})(\"/content/data/work/soft.report\")"
            ]
          },
          "metadata": {}
        }
      ]
    },
    {
      "cell_type": "markdown",
      "source": [
        "# View LVS report"
      ],
      "metadata": {
        "id": "ldCmn3atj1eq"
      }
    },
    {
      "cell_type": "code",
      "source": [
        "from google.colab import files\n",
        "\n",
        "files.view('/content/data/work/lvs.report')"
      ],
      "metadata": {
        "colab": {
          "base_uri": "https://localhost:8080/",
          "height": 17
        },
        "id": "UkUuHrX1jxdI",
        "outputId": "30e92266-a1e1-4f15-a4af-bf6dd053ed15"
      },
      "execution_count": null,
      "outputs": [
        {
          "output_type": "display_data",
          "data": {
            "text/plain": [
              "<IPython.core.display.Javascript object>"
            ],
            "application/javascript": [
              "\n",
              "      ((filepath) => {{\n",
              "        if (!google.colab.kernel.accessAllowed) {{\n",
              "          return;\n",
              "        }}\n",
              "        google.colab.files.view(filepath);\n",
              "      }})(\"/content/data/work/lvs.report\")"
            ]
          },
          "metadata": {}
        }
      ]
    },
    {
      "cell_type": "markdown",
      "source": [
        "# View CVC report"
      ],
      "metadata": {
        "id": "kJXQtZd1kKuj"
      }
    },
    {
      "cell_type": "code",
      "source": [
        "from google.colab import files\n",
        "\n",
        "files.view('/content/data/work/cvc.error')"
      ],
      "metadata": {
        "colab": {
          "base_uri": "https://localhost:8080/",
          "height": 17
        },
        "id": "l0mlcn6TkJ9z",
        "outputId": "a6872df5-b185-43dc-c1fd-31629ab0972e"
      },
      "execution_count": null,
      "outputs": [
        {
          "output_type": "display_data",
          "data": {
            "text/plain": [
              "<IPython.core.display.Javascript object>"
            ],
            "application/javascript": [
              "\n",
              "      ((filepath) => {{\n",
              "        if (!google.colab.kernel.accessAllowed) {{\n",
              "          return;\n",
              "        }}\n",
              "        google.colab.files.view(filepath);\n",
              "      }})(\"/content/data/work/cvc.error\")"
            ]
          },
          "metadata": {}
        }
      ]
    },
    {
      "cell_type": "markdown",
      "source": [
        "# View OEB report"
      ],
      "metadata": {
        "id": "qlSsZeFaksJ9"
      }
    },
    {
      "cell_type": "code",
      "source": [
        "from google.colab import files\n",
        "\n",
        "files.view('/content/data/work/cvc.oeb.sort.report')"
      ],
      "metadata": {
        "colab": {
          "base_uri": "https://localhost:8080/",
          "height": 17
        },
        "id": "l67MyFd9kvPr",
        "outputId": "2b29987d-a1bc-49dc-ff3c-2487cd3639a6"
      },
      "execution_count": null,
      "outputs": [
        {
          "output_type": "display_data",
          "data": {
            "text/plain": [
              "<IPython.core.display.Javascript object>"
            ],
            "application/javascript": [
              "\n",
              "      ((filepath) => {{\n",
              "        if (!google.colab.kernel.accessAllowed) {{\n",
              "          return;\n",
              "        }}\n",
              "        google.colab.files.view(filepath);\n",
              "      }})(\"/content/data/work/cvc.oeb.sort.report\")"
            ]
          },
          "metadata": {}
        }
      ]
    }
  ]
}