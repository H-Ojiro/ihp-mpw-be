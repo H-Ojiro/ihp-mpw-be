{
  "nbformat": 4,
  "nbformat_minor": 0,
  "metadata": {
    "colab": {
      "provenance": [],
      "include_colab_link": true
    },
    "kernelspec": {
      "name": "python3",
      "display_name": "Python 3"
    },
    "language_info": {
      "name": "python"
    }
  },
  "cells": [
    {
      "cell_type": "markdown",
      "metadata": {
        "id": "view-in-github",
        "colab_type": "text"
      },
      "source": [
        "<a href=\"https://colab.research.google.com/github/d-m-bailey/ihp-mpw-be/blob/160GHz_LNA/TO_202504.ipynb\" target=\"_parent\"><img src=\"https://colab.research.google.com/assets/colab-badge.svg\" alt=\"Open In Colab\"/></a>"
      ]
    },
    {
      "cell_type": "markdown",
      "source": [
        "# Backend Verification for the iHP Open MPW Shuttles\n",
        "\n",
        "[D. Mitch Bailey](https://www.linkedin.com/in/mitch-bailey-cvc/), [ShuhariSystem](https://www.shuharisystem.com/)"
      ],
      "metadata": {
        "id": "KXrjYC7jYI-4"
      }
    },
    {
      "cell_type": "markdown",
      "source": [
        "# Overview\n",
        "This notebook performs backend LVS (with [klayout](https://github.com/KLayout/klayout) or [magic](https://github.com/RTimothyEdwards/magic)/[netgen](https://github.com/RTimothyEdwards/netgen)), soft-connection checks (with magic/netgen) and/or reliability verfication (with [CVC-RV](https://github.com/d-m-bailey/cvc)) with open source EDA software and systems."
      ],
      "metadata": {
        "id": "xPG5P8WSg42s"
      }
    },
    {
      "cell_type": "markdown",
      "source": [
        "# iHP Open-MPW Data\n",
        "The 17 submissions to iHp open mpw shuttle for April 2025 listed below are located [here](https://github.com/IHP-GmbH/TO_Apr2025).\n",
        "\n",
        "* 160GHz_LNA\n",
        "* 40_GHZ_LOW_NOISE_TIA\n",
        "* 6502-cpu\n",
        "* 97_GHZ_LINEAR_TIA\n",
        "* DC_to_130_GHz_TIA\n",
        "* GPS_LNA\n",
        "* Greyhound\n",
        "* Mixer5GHz\n",
        "* PA_180GHz\n",
        "* TTIHP0p2\n",
        "* TTIHP25a\n",
        "* VCO_130nm_LSI\n",
        "* active_L_VCOs\n",
        "* ascon\n",
        "* bandgap_ref_cmos\n",
        "* elemrv-n\n",
        "* i2c-gpio-expander\n",
        "\n",
        "Create a file with the initial environment variables.\n"
      ],
      "metadata": {
        "id": "Nssto4gbqLr9"
      }
    },
    {
      "cell_type": "code",
      "source": [
        "%%writefile /content/env\n",
        "export LOCAL_INSTALL=/content/local\n",
        "export PATH=$PATH:$LOCAL_INSTALL/bin\n",
        "export PDK_ROOT=/content/pdks\n",
        "export PDK=ihp-sg13g2\n",
        "export PDKPATH=$PDK_ROOT/$PDK\n",
        "export PDK_COMMIT=ddb601a4a4473163e1ed6df416b885df18b4ac03\n",
        "export MAGIC_COMMIT=master\n",
        "export NETGEN_COMMIT=master\n",
        "export KLAYOUT_DISTRO=Ubuntu-22\n",
        "export KLAYOUT_DEB=klayout_0.30.1-1_amd64.deb\n",
        "export EXTRA_CHECK_COMMIT=ihp-sg13g2\n",
        "export CVC_COMMIT=master\n",
        "export UPRJ_ROOT=/content/data\n",
        "export LVS_ROOT=/root/extra_be_checks\n",
        "export MPW=TO_Apr2025\n",
        "if [[ -f $UPRJ_ROOT/project_env ]]; then\n",
        "  cat $UPRJ_ROOT/project_env\n",
        "  source $UPRJ_ROOT/project_env\n",
        "fi\n"
      ],
      "metadata": {
        "id": "nxpxjYy1zIkZ"
      },
      "execution_count": null,
      "outputs": []
    },
    {
      "cell_type": "markdown",
      "source": [
        "# Program installation.\n",
        "Only needs to be executed once.\n",
        "\n",
        "This step sets up the pdk and installs magic, klayout, netgen and cvc_rv.\n",
        "\n",
        "Runtime: 3-4 minutes."
      ],
      "metadata": {
        "id": "0zFjctvP3w1O"
      }
    },
    {
      "cell_type": "code",
      "source": [
        "%%shell\n",
        "cd\n",
        "cat /content/env\n",
        "source /content/env\n",
        "\n",
        "lsb_release -a 2>/dev/null\n",
        "\n",
        "if [[ ! -d $PDK_ROOT ]]; then\n",
        "  echo \"==> Installing ciel...\"\n",
        "  pip install ciel\n",
        "fi\n",
        "ciel enable --pdk $PDK $PDK_COMMIT\n",
        "# patch for mimcap and antenna error in netgen setup file from pdk\n",
        "sed -i '/lsearch .cells2/,/circuit2/s/circuit1 .dev/circuit2 $dev/' $PDK_ROOT/$PDK/libs.tech/netgen/ihp-sg13g2_setup.tcl\n",
        "\n",
        "# allow met7 text to be recognized on pads\n",
        "sed -i -e '/labels PADID/a\\\n",
        "labels MET7PIN port\\\n",
        "labels MET7TXT text\n",
        "' \\\n",
        "  -e '/pad/!s/\\*m7,m7fill,pillar,solder/&,pad/g' $PDK_ROOT/$PDK/libs.tech/magic/ihp-sg13g2.tech\n",
        "\n",
        "# ignore rule that creates separate taps for labeled wells\n",
        "sed -i -e '/^well_patt/s/\"/\"-/' -e '/^sub_patt/s/\"/\"-/' $PDK_ROOT/$PDK/libs.tech/klayout/tech/lvs/rule_decks/general_derivations.lvs\n",
        "\n",
        "# fix rfmim_sub\n",
        "sed -i -e 's/rfmim_sub =.*/rfmim_sub = rfmim_area.sized(1.um)/' $PDK_ROOT/$PDK/libs.tech/klayout/tech/lvs/rule_decks/cap_derivations.lvs\n",
        "echo \"==> Using pdk $PDK commit $PDK_COMMIT (patched)\n",
        "\"\n",
        "\n",
        "if [[ ! -d extra_be_checks ]]; then\n",
        "  echo \"==> Downloading extra_be_checks $EXTRA_CHECK_COMMIT\"\n",
        "  rm -rf extra_be_checks\n",
        "  git clone https://github.com/d-m-bailey/extra_be_checks.git -b $EXTRA_CHECK_COMMIT\n",
        "  mv $PDK_ROOT/$PDK/libs.tech/magic/ihp-sg13g2.tech $PDK_ROOT/$PDK/libs.tech/magic/ihp-sg13g2.tech.org\n",
        "  cp extra_be_checks/tech/ihp-sg13g2/ihp-sg13g2.tech $PDK_ROOT/$PDK/libs.tech/magic/ihp-sg13g2.tech\n",
        "fi\n",
        "echo \"==> Using extra_be_checks commit $(cd extra_be_checks; git rev-parse HEAD)\n",
        "\"\n",
        "\n",
        "if ! command -v netgen; then\n",
        "  echo \"==> Downloading and installing netgen $NETGEN_COMMIT\"\n",
        "  git clone https://github.com/RTimothyEdwards/netgen.git --depth=1 -b $NETGEN_COMMIT\n",
        "  cd netgen\n",
        "  ./configure --prefix=$LOCAL_INSTALL\n",
        "  make\n",
        "  make install\n",
        "  cd\n",
        "fi\n",
        "echo \"==> Using netgen version $(netgen -batch | awk '/Netgen/ {print $2}')\n",
        "\"\n",
        "\n",
        "if ! command -v magic; then\n",
        "  echo \"==> Downloading and installing magic $MAGIC_COMMIT\"\n",
        "  git clone https://github.com/RTimothyEdwards/magic.git --depth=1 -b $MAGIC_COMMIT\n",
        "  cd magic\n",
        "  ./configure --prefix=$LOCAL_INSTALL\n",
        "  make\n",
        "  make install\n",
        "  cd\n",
        "fi\n",
        "echo \"==> Using magic version $(magic -dnull -noc --version)\n",
        "\"\n",
        "\n",
        "if ! command -v klayout; then\n",
        "  echo \"==> Downloading and installing klayout $KLAYOUT_DEB for $KLAYOUT_DISTRO\"\n",
        "  wget -P /root https://www.klayout.org/downloads/$KLAYOUT_DISTRO/$KLAYOUT_DEB\n",
        "  sudo apt install /root/$KLAYOUT_DEB\n",
        "  pip install docopt\n",
        "  pip install klayout\n",
        "  cd\n",
        "fi\n",
        "echo \"==> Using $(klayout -v)\n",
        "\"\n",
        "\n",
        "if ! command -v cvc_rv; then\n",
        "  echo \"==> Downloading and installing cvc_rv $CVC_COMMIT\"\n",
        "  sudo apt install autopoint bison flex\n",
        "  git clone https://github.com/d-m-bailey/cvc --depth=1 -b $CVC_COMMIT\n",
        "  cd cvc\n",
        "  autoreconf -vif\n",
        "  ./configure --prefix=$LOCAL_INSTALL --disable-nls\n",
        "  make\n",
        "  make install\n",
        "  cd\n",
        "fi\n",
        "echo \"==> Using $(cvc_rv -v)\n",
        "\""
      ],
      "metadata": {
        "id": "Gd7xF7Ssqkh9",
        "collapsed": true
      },
      "execution_count": null,
      "outputs": []
    },
    {
      "cell_type": "markdown",
      "source": [
        "# Clone the design repo and list the gds, spice and verilog files.\n",
        "\n",
        "Run to refresh the design data.\n",
        "The file list is also saved in /content/filelist.txt.\n",
        "\n",
        "Runtime: 1-2 minutes."
      ],
      "metadata": {
        "id": "3dCQ3asT1JeR"
      }
    },
    {
      "cell_type": "code",
      "source": [
        "%%shell\n",
        "cat /content/env\n",
        "source /content/env\n",
        "rm -rf data\n",
        "git clone https://github.com/IHP-GmbH/$MPW.git data\n",
        "cd data\n",
        "# uncompress gds, spice, cdl, and verilog files\n",
        "find . \\( -name \"*.gds.gz\" -o -name \"*.spice.gz\" -o -name \"*.cdl.gz\" -o -name \"*.v.gz\" \\) -execdir gunzip -v {} \\;\n",
        "find . \\( -name \"*.gds.zip\" -o -name \"*.spice.zip\" -o -name \"*.cdl.zip\" -o -name \"*.v.zip\" \\) -execdir 7z x {} \\;\n",
        "# Create a file listing the size, project and gds file name.\n",
        "# Only list files that end with .gds (in gds subdirectories), .spice, .cdl, or .v.\n",
        "tee /content/filelist.txt <<EOF\n",
        "   Size Project                   File\n",
        "------- ------------------------- ---------------------------------------------\n",
        "EOF\n",
        "ls -s $(find . \\( -name \"*.gds\" -path \"*/gds/*\" \\) -o -name \"*.spice\" -o -name \"*.cdl\" -o -name \"*.v\") |\n",
        "  sed -e 's,\\./,,' -e 's,/, ,' |\n",
        "  awk '{printf \"%7d %-25s %s\\n\", $1, $2, $3}' |\n",
        "  tee -a /content/filelist.txt"
      ],
      "metadata": {
        "id": "Mk5M_rlrpVjg",
        "collapsed": true
      },
      "execution_count": null,
      "outputs": []
    },
    {
      "cell_type": "markdown",
      "source": [
        "# Create setup for 160GHz_LNA\n"
      ],
      "metadata": {
        "id": "o0IPhpGFpx15"
      }
    },
    {
      "cell_type": "markdown",
      "source": [
        "Set the project, top cell and gds file names."
      ],
      "metadata": {
        "id": "ddHKTYSJpx16"
      }
    },
    {
      "cell_type": "code",
      "source": [
        "%%shell\n",
        "source /content/env\n",
        "cat > $UPRJ_ROOT/project_env <<'EOF'\n",
        "export PROJECT=160GHz_LNA\n",
        "export LAYOUT_TOP=FMD_QNC_04_160GHz_LNA\n",
        "export GDSFILE=design_data/gds/FMD_QNC_04_160GHz_LNA.1.gds\n",
        "export WORK_ROOT=$UPRJ_ROOT/$PROJECT/work/$LAYOUT_TOP\n",
        "export SPICE_FILE=$WORK_ROOT/$LAYOUT_TOP.spice\n",
        "export KLAYOUT_CDL=$WORK_ROOT/$LAYOUT_TOP.cdl\n",
        "EOF\n",
        "cat $UPRJ_ROOT/project_env\n",
        "source $UPRJ_ROOT/project_env\n",
        "rm -f /content/data/work\n",
        "rm -rf $WORK_ROOT\n",
        "mkdir -p $WORK_ROOT\n",
        "ln -s $WORK_ROOT /content/data/work\n",
        "ls -l /content/data/work"
      ],
      "metadata": {
        "id": "MCHlHjJRpx17"
      },
      "execution_count": null,
      "outputs": []
    },
    {
      "cell_type": "markdown",
      "source": [
        "Create the modified magic source netlist."
      ],
      "metadata": {
        "id": "hp5bC4b8px17"
      }
    },
    {
      "cell_type": "code",
      "source": [
        "%%shell\n",
        "cat /content/env\n",
        "source /content/env\n",
        "cat > $SPICE_FILE <<EOF\n",
        ".SUBCKT $LAYOUT_TOP GND VBB1 VBB2 VCC RF_INPUT RF_OUTPUT\n",
        "\n",
        "XQ1 net2 net1 GND GND npn13g2 AE=0.063p PE=1.94u AB=25.605p PB=23.02u\n",
        "+ AC=25.589984p PC=23.01u NE=4 m=4\n",
        "XQ2 net4 net3 GND GND npn13g2 AE=0.063p PE=1.94u AB=25.605p PB=23.02u\n",
        "+ AC=25.589984p PC=23.01u NE=4 m=4\n",
        "XQ3 net6 net5 GND GND npn13g2 AE=0.063p PE=1.94u AB=12.988p PB=15.62u\n",
        "+ AC=12.976684p PC=15.61u NE=2 m=2\n",
        "XQ4 net8 net7 GND GND npn13g2 AE=0.063p PE=1.94u AB=12.988p PB=15.62u\n",
        "+ AC=12.976684p PC=15.61u NE=2 m=2\n",
        "\n",
        "XRC1 net2 VCC rsil w=7.5u l=5u ps=0 b=0 m=1\n",
        "XRC2 net4 VCC rsil w=7.5u l=5u ps=0 b=0 m=1\n",
        "XRC3 net6 VCC rsil w=7.5u l=5u ps=0 b=0 m=1\n",
        "XRC4 net8 VCC rsil w=7.5u l=5.5u ps=0 b=0 m=1\n",
        "\n",
        "XRB1 net1 VBB1 rhigh w=1.9u l=6u ps=0 b=0 m=1\n",
        "XRB2 net3 VBB1 rhigh w=1.9u l=5u ps=0 b=0 m=1\n",
        "XRB3 net5 VBB1 rhigh w=1.9u l=6u ps=0 b=0 m=1\n",
        "XRB4 net7 VBB2 rhigh w=2u l=6u ps=0 b=0 m=1\n",
        "\n",
        "XCC1 VCC GND cap_cmim w=20u l=25u A=500p P=90u m=8\n",
        "XCB1 VBB1 GND cap_cmim w=20u l=25u A=500p P=90u m=6\n",
        "XCB2 VBB2 GND cap_cmim w=20u l=25u A=500p P=90u m=4\n",
        "\n",
        "XCRC1 RF_INPUT net1 GND cap_rfcmim w=10u l=15u\n",
        "XCRC2 net2 net2_3 GND cap_rfcmim w=32u l=3.72u\n",
        "XCRC3 net2_3 net3 GND cap_rfcmim w=5.2 l=2.4u\n",
        "XCRC4 net4 net4_5 GND cap_rfcmim w=32u l=3.72u\n",
        "XCRC5 net4_5 net5 GND cap_rfcmim w=7.6u l=2.5u\n",
        "XCRC6 net6 net6_7 GND cap_rfcmim w=32u l=12.5u\n",
        "XCRC7 net6 net6_7 GND cap_rfcmim w=5.1u l=2.4u\n",
        "XCRC8 net6 net6_7 GND cap_rfcmim w=32u l=6.2u\n",
        "XCRC9 net6 net6_7 GND cap_rfcmim w=3.2u l=2.4u\n",
        "\n",
        ".ENDS\n",
        "EOF"
      ],
      "metadata": {
        "id": "HYVQkN0Opx17"
      },
      "execution_count": null,
      "outputs": []
    },
    {
      "cell_type": "markdown",
      "source": [
        "Create lvs_config.json and update the LVS_SPICE_FILES and LVS_VERILOG_FILES for every design.\n",
        "\n",
        "Update the other parameters as needed."
      ],
      "metadata": {
        "id": "_ABv8aMTpx17"
      }
    },
    {
      "cell_type": "code",
      "source": [
        "%%shell\n",
        "cat /content/env\n",
        "source /content/env\n",
        "cat > $WORK_ROOT/lvs_config.json <<EOF\n",
        "{\n",
        "  \"#STD_CELL_LIBRARY\": \"sky130_fd_sc_hd\",\n",
        "  \"#INCLUDE_CONFIGS\": [\n",
        "    \"$LVS_ROOT/tech/$PDK/lvs_config.base.json\"\n",
        "  ],\n",
        "  \"TOP_SOURCE\": \"$LAYOUT_TOP\",\n",
        "  \"TOP_LAYOUT\": \"$LAYOUT_TOP\",\n",
        "  \"EXTRACT_FLATGLOB\": [\n",
        "    \"npn13G2*\",\n",
        "    \"cmim*\",\n",
        "    \"rfcmim*\",\n",
        "    \"rsil*\",\n",
        "    \"via_stack*\",\n",
        "    \"GND\",\n",
        "    \"sealring*\",\n",
        "    \"*_stage\",\n",
        "    \"LNA\",\n",
        "    \"rhigh*\"\n",
        "  ],\n",
        "  \"EXTRACT_ABSTRACT\": [ \"\" ],\n",
        "  \"LVS_FLATTEN\": [ \"\" ],\n",
        "  \"LVS_NOFLATTEN\": [ \"\" ],\n",
        "  \"LVS_IGNORE\": [ \"\" ],\n",
        "  \"LVS_SPICE_FILES\": [\n",
        "    \"$SPICE_FILE\"\n",
        "  ],\n",
        "  \"#LVS_VERILOG_FILES\": [\n",
        "    \"$UPRJ_ROOT/verilog/gl/user_proj_example.v\",\n",
        "    \"$UPRJ_ROOT/verilog/gl/user_project_wrapper.v\"\n",
        "  ],\n",
        "  \"LAYOUT_FILE\": \"$UPRJ_ROOT/$PROJECT/$GDSFILE\"\n",
        "}\n",
        "EOF"
      ],
      "metadata": {
        "id": "vVQnUrHopx17"
      },
      "execution_count": null,
      "outputs": []
    },
    {
      "cell_type": "markdown",
      "source": [
        "Write cvcrc file"
      ],
      "metadata": {
        "id": "jutc-Gsspx18"
      }
    },
    {
      "cell_type": "code",
      "source": [
        "%%shell\n",
        "cat /content/env\n",
        "source /content/env\n",
        "cat > $WORK_ROOT/cvcrc <<EOF\n",
        "CVC_TOP = $LAYOUT_TOP\n",
        "CVC_NETLIST = $WORK_ROOT/ext/$LAYOUT_TOP.cdl.gz\n",
        "CVC_MODEL_FILE = $LVS_ROOT/tech/ihp-sg13g2/cvc.models\n",
        "CVC_POWER_FILE = $WORK_ROOT/cvc.power.$LAYOUT_TOP\n",
        "CVC_REPORT_FILE = $WORK_ROOT/cvc.log\n",
        "EOF\n",
        "\n",
        "cat > $WORK_ROOT/cvc.power.$LAYOUT_TOP <<EOF\n",
        "GND power 0.0\n",
        "VCC power 3.3\n",
        "EOF"
      ],
      "metadata": {
        "id": "W0XmUXvApx19"
      },
      "execution_count": null,
      "outputs": []
    },
    {
      "cell_type": "markdown",
      "source": [
        "Create the klayout CDL file from the magic source netlist."
      ],
      "metadata": {
        "id": "i_WF1B6tpx19"
      }
    },
    {
      "cell_type": "code",
      "source": [
        "%%shell\n",
        "source /content/env\n",
        "sed -e '/^X[MRC]/s/.//' $SPICE_FILE > $KLAYOUT_CDL\n"
      ],
      "metadata": {
        "id": "Zzp5M_Adpx19"
      },
      "execution_count": null,
      "outputs": []
    },
    {
      "cell_type": "markdown",
      "source": [
        "# Results for 160GHz_LNA"
      ],
      "metadata": {
        "id": "9NMJctSqCa_x"
      }
    },
    {
      "cell_type": "markdown",
      "source": [
        "*   layout has cells that have the same name as primitive devices. This causes netgen to segfault. <br>=> Flatglob all layout cells with primitive device names.\n",
        "* Top layout does not have text. LNA level has text, but also has missing connectivity. <br>=> Copy text from LNA ports to top level.\n",
        "* Top level met7 text on pads is not recognized in magic extraction.\n",
        "* LVS does not pass. Needs investigation."
      ],
      "metadata": {
        "id": "GzMU4HXACa_z"
      }
    },
    {
      "cell_type": "markdown",
      "source": [
        "# Create setup for 40_GHZ_LOW_NOISE_TIA\n"
      ],
      "metadata": {
        "id": "sCnqIvBARKTz"
      }
    },
    {
      "cell_type": "markdown",
      "source": [
        "Set the project, top cell and gds file names."
      ],
      "metadata": {
        "id": "SCzo_6-4RKT0"
      }
    },
    {
      "cell_type": "code",
      "source": [
        "%%shell\n",
        "source /content/env\n",
        "cat > $UPRJ_ROOT/project_env <<'EOF'\n",
        "export PROJECT=40_GHZ_LOW_NOISE_TIA\n",
        "export LAYOUT_TOP=FDM_QNC_00_LN_TIA\n",
        "export GDSFILE=design_data/gds/FMD_QNC_00_40_GHz_Low_Noise_TIA.gds\n",
        "export WORK_ROOT=$UPRJ_ROOT/$PROJECT/work/$LAYOUT_TOP\n",
        "export SPICE_FILE=$WORK_ROOT/$LAYOUT_TOP.spice\n",
        "export KLAYOUT_CDL=$WORK_ROOT/$LAYOUT_TOP.cdl\n",
        "EOF\n",
        "cat $UPRJ_ROOT/project_env\n",
        "source $UPRJ_ROOT/project_env\n",
        "rm -f /content/data/work\n",
        "rm -rf $WORK_ROOT\n",
        "mkdir -p $WORK_ROOT\n",
        "ln -s $WORK_ROOT /content/data/work\n",
        "ls -l /content/data/work"
      ],
      "metadata": {
        "id": "ABoKEu8eRKT0"
      },
      "execution_count": null,
      "outputs": []
    },
    {
      "cell_type": "markdown",
      "source": [
        "Create the modified magic source netlist."
      ],
      "metadata": {
        "id": "yhcZTjYxRKT0"
      }
    },
    {
      "cell_type": "code",
      "source": [
        "%%shell\n",
        "cat /content/env\n",
        "source /content/env\n",
        "cat > $SPICE_FILE <<EOF\n",
        ".SUBCKT $LAYOUT_TOP gnd vcc1 vcc2 vcc3 RFin RFout\n",
        "\n",
        "XCc1 vcc1 gnd cap_cmim w=30u l=60u A=1800p P=180u m=2\n",
        "XCc2 vcc2 gnd cap_cmim w=30u l=60u A=1800p P=180u m=2\n",
        "XCc3 vcc3 gnd cap_cmim w=30u l=60u A=1800p P=180u m=2\n",
        "\n",
        "XRRF RFin net2 rppd w=2u l=6.5u ps=0 b=0 m=1\n",
        "\n",
        "XRRC1 vcc1 net1 rppd w=8u l=4.5u ps=0 b=0 m=1\n",
        "XRRE2 net2 gnd rppd w=3u l=6u ps=0 b=0 m=1\n",
        "\n",
        "XRRC3 vcc3 RFout rsil w=4u l=14.5u ps=0 b=0 m=1\n",
        "XRRE3 net3 gnd rsil w=4u l=3u ps=0 b=0 m=1\n",
        "\n",
        "XQq1 net1 RFin gnd gnd npn13G2 AE=0.063p PE=1.94u AB=63.456p PB=45.22u\n",
        "+ AC=63.429884p PC=45.21u NE=10 m=10\n",
        "XQq2 vcc2 net1 net2 gnd npn13G2 AE=0.063p PE=1.94u AB=31.9135p\n",
        "+ PB=26.72u AC=31.896634p PC=26.71u NE=5 m=5\n",
        "XQq3 RFout net2 net3 gnd npn13G2 AE=0.063p PE=1.94u AB=63.456p\n",
        "+ PB=45.22u AC=63.429884p PC=45.21u NE=10 m=10\n",
        "\n",
        ".ENDS\n",
        "EOF"
      ],
      "metadata": {
        "id": "VHIIf0YTRKT1"
      },
      "execution_count": null,
      "outputs": []
    },
    {
      "cell_type": "markdown",
      "source": [
        "Create lvs_config.json and update the LVS_SPICE_FILES and LVS_VERILOG_FILES for every design.\n",
        "\n",
        "Update the other parameters as needed."
      ],
      "metadata": {
        "id": "OAEttZP5RKT1"
      }
    },
    {
      "cell_type": "code",
      "source": [
        "%%shell\n",
        "cat /content/env\n",
        "source /content/env\n",
        "cat > $WORK_ROOT/lvs_config.json <<EOF\n",
        "{\n",
        "  \"#STD_CELL_LIBRARY\": \"sky130_fd_sc_hd\",\n",
        "  \"#INCLUDE_CONFIGS\": [\n",
        "    \"$LVS_ROOT/tech/$PDK/lvs_config.base.json\"\n",
        "  ],\n",
        "  \"TOP_SOURCE\": \"$LAYOUT_TOP\",\n",
        "  \"TOP_LAYOUT\": \"$LAYOUT_TOP\",\n",
        "  \"EXTRACT_FLATGLOB\": [\n",
        "    \"cmim*\",\n",
        "    \"npn13G2*\",\n",
        "    \"rppd*\",\n",
        "    \"rsil*\",\n",
        "    \"sealring*\",\n",
        "    \"VIA_STACK*\",\n",
        "    \"DC_PAD_DOWN\",\n",
        "    \"DC_PAD_UP\",\n",
        "    \"INPUT_PAD\",\n",
        "    \"OUTPUT_PAD\",\n",
        "    \"*FILL_CELL*\",\n",
        "    \"GND_PLANE\",\n",
        "    \"*_STAGE\",\n",
        "    \"TIA\"\n",
        "  ],\n",
        "  \"EXTRACT_ABSTRACT\": [ \"\" ],\n",
        "  \"LVS_FLATTEN\": [ \"\" ],\n",
        "  \"LVS_NOFLATTEN\": [ \"\" ],\n",
        "  \"LVS_IGNORE\": [ \"\" ],\n",
        "  \"LVS_SPICE_FILES\": [\n",
        "    \"$SPICE_FILE\"\n",
        "  ],\n",
        "  \"#LVS_VERILOG_FILES\": [\n",
        "    \"$UPRJ_ROOT/verilog/gl/user_proj_example.v\",\n",
        "    \"$UPRJ_ROOT/verilog/gl/user_project_wrapper.v\"\n",
        "  ],\n",
        "  \"LAYOUT_FILE\": \"$UPRJ_ROOT/$PROJECT/$GDSFILE\"\n",
        "}\n",
        "EOF"
      ],
      "metadata": {
        "id": "Mrrreu3aRKT1"
      },
      "execution_count": null,
      "outputs": []
    },
    {
      "cell_type": "markdown",
      "source": [
        "Write cvcrc file"
      ],
      "metadata": {
        "id": "zPMfjyNVRKT1"
      }
    },
    {
      "cell_type": "code",
      "source": [
        "%%shell\n",
        "cat /content/env\n",
        "source /content/env\n",
        "cat > $WORK_ROOT/cvcrc <<EOF\n",
        "CVC_TOP = $LAYOUT_TOP\n",
        "CVC_NETLIST = $WORK_ROOT/ext/$LAYOUT_TOP.cdl.gz\n",
        "CVC_MODEL_FILE = $LVS_ROOT/tech/ihp-sg13g2/cvc.models\n",
        "CVC_POWER_FILE = $WORK_ROOT/cvc.power.$LAYOUT_TOP\n",
        "CVC_REPORT_FILE = $WORK_ROOT/cvc.log\n",
        "EOF\n",
        "\n",
        "cat > $WORK_ROOT/cvc.power.$LAYOUT_TOP <<EOF\n",
        "gnd power 0.0\n",
        "vcc* power 3.3\n",
        "EOF"
      ],
      "metadata": {
        "id": "vxHfUYn3RKT1"
      },
      "execution_count": null,
      "outputs": []
    },
    {
      "cell_type": "markdown",
      "source": [
        "Create the klayout CDL file from the magic source netlist."
      ],
      "metadata": {
        "id": "a2KU7s4CRKT1"
      }
    },
    {
      "cell_type": "code",
      "source": [
        "%%shell\n",
        "source /content/env\n",
        "sed -e '/^X[MRC]/s/.//' $SPICE_FILE > $KLAYOUT_CDL\n"
      ],
      "metadata": {
        "id": "VdbpWNwyRKT1"
      },
      "execution_count": null,
      "outputs": []
    },
    {
      "cell_type": "markdown",
      "source": [
        "# Results for 40_GHZ_LOW_NOISE_TIA"
      ],
      "metadata": {
        "id": "FWWrta9hRKT1"
      }
    },
    {
      "cell_type": "markdown",
      "source": [
        "`*   layout has cells that have the same name as primitive devices. This causes netgen to segfault. <br>=> Flatglob all layout cells with primitive device names.\n",
        "* Top layout does not have text. `TIA` level has text, but also has missing connectivity. <br>=> Copy text from `TIA` ports to top level.\n",
        "* Top level met7 text on pads is not recognized in magic extraction.\n",
        "* LVS does not pass. Needs investigation."
      ],
      "metadata": {
        "id": "q61kID9_RKT1"
      }
    },
    {
      "cell_type": "markdown",
      "source": [
        "# Create setup for 6502-cpu\n"
      ],
      "metadata": {
        "id": "fXKxBlBR87MZ"
      }
    },
    {
      "cell_type": "markdown",
      "source": [
        "Set the project, top cell and gds file names."
      ],
      "metadata": {
        "id": "x69XsgM387Ma"
      }
    },
    {
      "cell_type": "code",
      "source": [
        "%%shell\n",
        "source /content/env\n",
        "cat > $UPRJ_ROOT/project_env <<'EOF'\n",
        "export PROJECT=6502-cpu\n",
        "export LAYOUT_TOP=cpu_top\n",
        "export GDSFILE=design_data/gds/FMD_QNC_18_6502-cpu.gds\n",
        "export WORK_ROOT=$UPRJ_ROOT/$PROJECT/work/$LAYOUT_TOP\n",
        "export SPICE_FILE=$WORK_ROOT/$LAYOUT_TOP.spice\n",
        "export KLAYOUT_CDL=$WORK_ROOT/$LAYOUT_TOP.cdl\n",
        "EOF\n",
        "cat $UPRJ_ROOT/project_env\n",
        "source $UPRJ_ROOT/project_env\n",
        "rm -f /content/data/work\n",
        "rm -rf $WORK_ROOT\n",
        "mkdir -p $WORK_ROOT\n",
        "ln -s $WORK_ROOT /content/data/work\n",
        "ls -l /content/data/work"
      ],
      "metadata": {
        "id": "DI4aE8IQ87Ma"
      },
      "execution_count": null,
      "outputs": []
    },
    {
      "cell_type": "markdown",
      "source": [
        "Create the modified magic source netlist."
      ],
      "metadata": {
        "id": "RUPUsalX87Mb"
      }
    },
    {
      "cell_type": "code",
      "source": [
        "%%shell\n",
        "cat /content/env\n",
        "source /content/env\n",
        "cat > $SPICE_FILE <<EOF\n",
        ".SUBCKT $LAYOUT_TOP\n",
        "* no source\n",
        ".ENDS\n",
        "EOF"
      ],
      "metadata": {
        "id": "I038KFNS87Mb"
      },
      "execution_count": null,
      "outputs": []
    },
    {
      "cell_type": "markdown",
      "source": [
        "Create lvs_config.json and update the LVS_SPICE_FILES and LVS_VERILOG_FILES for every design.\n",
        "\n",
        "Update the other parameters as needed."
      ],
      "metadata": {
        "id": "Uns57HRy87Mb"
      }
    },
    {
      "cell_type": "code",
      "source": [
        "%%shell\n",
        "cat /content/env\n",
        "source /content/env\n",
        "cat > $WORK_ROOT/lvs_config.json <<EOF\n",
        "{\n",
        "  \"#STD_CELL_LIBRARY\": \"sky130_fd_sc_hd\",\n",
        "  \"#INCLUDE_CONFIGS\": [\n",
        "    \"$LVS_ROOT/tech/$PDK/lvs_config.base.json\"\n",
        "  ],\n",
        "  \"TOP_SOURCE\": \"$LAYOUT_TOP\",\n",
        "  \"TOP_LAYOUT\": \"$LAYOUT_TOP\",\n",
        "  \"EXTRACT_FLATGLOB\": [\n",
        "    \"\"\n",
        "  ],\n",
        "  \"EXTRACT_ABSTRACT\": [ \"\" ],\n",
        "  \"LVS_FLATTEN\": [ \"\" ],\n",
        "  \"LVS_NOFLATTEN\": [ \"\" ],\n",
        "  \"LVS_IGNORE\": [ \"\" ],\n",
        "  \"LVS_SPICE_FILES\": [\n",
        "    \"$SPICE_FILE\"\n",
        "  ],\n",
        "  \"#LVS_VERILOG_FILES\": [\n",
        "    \"$UPRJ_ROOT/verilog/gl/user_proj_example.v\",\n",
        "    \"$UPRJ_ROOT/verilog/gl/user_project_wrapper.v\"\n",
        "  ],\n",
        "  \"LAYOUT_FILE\": \"$UPRJ_ROOT/$PROJECT/$GDSFILE\"\n",
        "}\n",
        "EOF"
      ],
      "metadata": {
        "id": "VoHEgWx_87Mb"
      },
      "execution_count": null,
      "outputs": []
    },
    {
      "cell_type": "markdown",
      "source": [
        "Write cvcrc file"
      ],
      "metadata": {
        "id": "_qLIfpK687Mb"
      }
    },
    {
      "cell_type": "code",
      "source": [
        "%%shell\n",
        "cat /content/env\n",
        "source /content/env\n",
        "cat > $WORK_ROOT/cvcrc <<EOF\n",
        "CVC_TOP = $LAYOUT_TOP\n",
        "CVC_NETLIST = $WORK_ROOT/ext/$LAYOUT_TOP.cdl.gz\n",
        "CVC_MODEL_FILE = $LVS_ROOT/tech/ihp-sg13g2/cvc.models\n",
        "CVC_POWER_FILE = $WORK_ROOT/cvc.power.$LAYOUT_TOP\n",
        "CVC_REPORT_FILE = $WORK_ROOT/cvc.log\n",
        "EOF\n",
        "\n",
        "cat > $WORK_ROOT/cvc.power.$LAYOUT_TOP <<EOF\n",
        "gnd power 0.0\n",
        "vcc* power 3.3\n",
        "EOF"
      ],
      "metadata": {
        "id": "oJF6u71q87Mb"
      },
      "execution_count": null,
      "outputs": []
    },
    {
      "cell_type": "markdown",
      "source": [
        "Create the klayout CDL file from the magic source netlist."
      ],
      "metadata": {
        "id": "rheL8Qdc87Mb"
      }
    },
    {
      "cell_type": "code",
      "source": [
        "%%shell\n",
        "source /content/env\n",
        "sed -e '/^X[MRC]/s/.//' $SPICE_FILE > $KLAYOUT_CDL\n"
      ],
      "metadata": {
        "id": "Tf7b2B0I87Mb"
      },
      "execution_count": null,
      "outputs": []
    },
    {
      "cell_type": "markdown",
      "source": [
        "# Results for 6502-cpu"
      ],
      "metadata": {
        "id": "gxE_JeoT87Mc"
      }
    },
    {
      "cell_type": "markdown",
      "source": [
        "*   Missing top level power and ground.\n",
        "* Missing source netlist."
      ],
      "metadata": {
        "id": "lm-owtjs87Mc"
      }
    },
    {
      "cell_type": "markdown",
      "source": [
        "# Create setup for bandgap_ref_cmos\n"
      ],
      "metadata": {
        "id": "34M9z14wqiAZ"
      }
    },
    {
      "cell_type": "markdown",
      "source": [
        "Set the project, top cell and gds file names."
      ],
      "metadata": {
        "id": "1OpxVcGbry5e"
      }
    },
    {
      "cell_type": "code",
      "source": [
        "%%shell\n",
        "source /content/env\n",
        "cat > $UPRJ_ROOT/project_env <<'EOF'\n",
        "export PROJECT=bandgap_ref_cmos\n",
        "export LAYOUT_TOP=full_bandgap\n",
        "export GDSFILE=design_data/gds/FMD_QNC_15_WeakInvBGR.gds\n",
        "export WORK_ROOT=$UPRJ_ROOT/$PROJECT/work/$LAYOUT_TOP\n",
        "export SPICE_FILE=$WORK_ROOT/$LAYOUT_TOP.spice\n",
        "export KLAYOUT_CDL=$WORK_ROOT/$LAYOUT_TOP.cdl\n",
        "EOF\n",
        "cat $UPRJ_ROOT/project_env\n",
        "source $UPRJ_ROOT/project_env\n",
        "rm -f /content/data/work\n",
        "rm -rf $WORK_ROOT\n",
        "mkdir -p $WORK_ROOT\n",
        "ln -s $WORK_ROOT /content/data/work\n",
        "ls -l /content/data/work"
      ],
      "metadata": {
        "id": "4tto2vQbPMYF"
      },
      "execution_count": null,
      "outputs": []
    },
    {
      "cell_type": "markdown",
      "source": [
        "Create the modified magic source netlist."
      ],
      "metadata": {
        "id": "uyMpUnP_w-iv"
      }
    },
    {
      "cell_type": "code",
      "source": [
        "%%shell\n",
        "cat /content/env\n",
        "source /content/env\n",
        "cat > $SPICE_FILE <<EOF\n",
        "** sch_path: /Users/home/IHP/TO_Apr2025/bandgap_ref_cmos/design_data/xschem/part_2_full_bgr/bandgap_reference.sch\n",
        ".subckt full_bandgap vdd VBG vss iout\n",
        "*.PININFO vplus:B v-:B Vo1:B VBG:O\n",
        "XM8 net1 v- vss vss sg13_lv_nmos l=10u w=150n ng=1 m=1\n",
        "XM6 net1 net1 vdd vdd sg13_lv_pmos l=1u w=1u ng=1 m=1\n",
        "XM7 net2 net1 vdd vdd sg13_lv_pmos l=1u w=1u ng=1 m=1\n",
        "XM9 v- net2 vdd vdd sg13_lv_pmos l=4u w=200n ng=1 m=1\n",
        "XM1 v- vplus vss vss sg13_lv_nmos l=5u w=7.14u ng=4 m=1\n",
        "XM2 net3 net3 vss vss sg13_lv_nmos l=5u w=21u ng=8 m=1\n",
        "XM3 v- Vo1 vdd vdd sg13_lv_pmos l=5u w=15u ng=8 m=1\n",
        "XM4 vplus Vo1 vdd vdd sg13_lv_pmos l=5u w=15u ng=8 m=1\n",
        "XM5 VBG Vo1 vdd vdd sg13_lv_pmos l=5u w=16u ng=8 m=1\n",
        "*XC3 VBG vss cap_cmim w=72.965e-6 l=72.965e-6 m=1\n",
        "XC3 vdd vss cap_cmim w=5e-6 l=5e-6 m=15\n",
        "XR3 net3 vplus rppd w=0.5e-6 l=194.345e-6 m=1 b=0\n",
        "*XR1 vss vplus rppd w=0.6e-6 l=194.345e-6 m=1 b=0\n",
        "XR1_1 vss mid rppd w=03.0e-6 l=38.645e-6 m=1 b=0\n",
        "XR1_2 mid vplus rppd w=0.5e-6 l=154.58e-6 m=1 b=0\n",
        "*XR2 vss VBG rppd w=0.5e-6 l=192.395e-6 m=1 b=0\n",
        "XR2 vss VBG rppd w=0.71e-6 l=270.515e-6 m=1 b=0\n",
        "XC1 net2 vss cap_cmim w=18.195e-6 l=18.195e-6 m=1\n",
        "x1 vdd iout vplus v- Vo1 vss two_stage_OTA\n",
        ".ends\n",
        "\n",
        "* expanding   symbol:  part_1_OTA/two_stage_OTA.sym # of pins=6\n",
        "** sym_path: /Users/home/IHP/TO_Apr2025/bandgap_ref_cmos/design_data/xschem/part_1_OTA/two_stage_OTA.sym\n",
        "** sch_path: /Users/home/IHP/TO_Apr2025/bandgap_ref_cmos/design_data/xschem/part_1_OTA/two_stage_OTA.sch\n",
        ".subckt two_stage_OTA vdd iout vplus v- vout vss\n",
        "*.PININFO v-:B vplus:B vss:B vdd:B iout:B vout:B\n",
        "XM4 net3 net1 vss vss sg13_lv_nmos l=9.75u w=720n ng=1 m=1\n",
        "XM3 net1 net1 vss vss sg13_lv_nmos l=9.75u w=720n ng=1 m=1\n",
        "XM1 net1 v- net2 vdd sg13_lv_pmos l=3.7u w=3.64u ng=1 m=2\n",
        "XM_dummy net1 vdd vdd vdd sg13_lv_pmos l=3.7u w=3.64u ng=1 m=2\n",
        "XM2 net3 vplus net2 vdd sg13_lv_pmos l=3.7u w=3.64u ng=1 m=2\n",
        "XM_dummy2 vdd vdd net2 vdd sg13_lv_pmos l=3.7u w=3.64u ng=1 m=4\n",
        "XM_dummy3 net3 vdd vdd vdd sg13_lv_pmos l=3.7u w=3.64u ng=1 m=2\n",
        "XM5 net2 iout vdd vdd sg13_lv_pmos l=1.95u w=5.3u ng=1 m=1\n",
        "XM7 vout iout vdd vdd sg13_lv_pmos l=2.08u w=75u ng=8 m=1\n",
        "XM6 vout net3 vss vss sg13_lv_nmos l=9.75u w=28.8u ng=4 m=1\n",
        "XM9 iout iout vdd vdd sg13_lv_pmos l=2.08u w=75u ng=8 m=1\n",
        "XC2 net3 vout cap_cmim w=22.295e-6 l=22.295e-6 m=1\n",
        ".ends\n",
        "EOF"
      ],
      "metadata": {
        "id": "TXW2bg3y3Ubu"
      },
      "execution_count": null,
      "outputs": []
    },
    {
      "cell_type": "markdown",
      "source": [
        "Create lvs_config.json and update the LVS_SPICE_FILES and LVS_VERILOG_FILES for every design.\n",
        "\n",
        "Update the other parameters as needed."
      ],
      "metadata": {
        "id": "C-RkpMNj55IG"
      }
    },
    {
      "cell_type": "code",
      "source": [
        "%%shell\n",
        "cat /content/env\n",
        "source /content/env\n",
        "cat > $WORK_ROOT/lvs_config.json <<EOF\n",
        "{\n",
        "  \"#STD_CELL_LIBRARY\": \"sky130_fd_sc_hd\",\n",
        "  \"#INCLUDE_CONFIGS\": [\n",
        "    \"$LVS_ROOT/tech/$PDK/lvs_config.base.json\"\n",
        "  ],\n",
        "  \"TOP_SOURCE\": \"$LAYOUT_TOP\",\n",
        "  \"TOP_LAYOUT\": \"$LAYOUT_TOP\",\n",
        "  \"EXTRACT_FLATGLOB\": [ \"\" ],\n",
        "  \"EXTRACT_ABSTRACT\": [ \"\" ],\n",
        "  \"LVS_FLATTEN\": [ \"\" ],\n",
        "  \"LVS_NOFLATTEN\": [ \"\" ],\n",
        "  \"LVS_IGNORE\": [ \"\" ],\n",
        "  \"LVS_SPICE_FILES\": [\n",
        "    \"$SPICE_FILE\"\n",
        "  ],\n",
        "  \"#LVS_VERILOG_FILES\": [\n",
        "    \"$UPRJ_ROOT/verilog/gl/user_proj_example.v\",\n",
        "    \"$UPRJ_ROOT/verilog/gl/user_project_wrapper.v\"\n",
        "  ],\n",
        "  \"LAYOUT_FILE\": \"$UPRJ_ROOT/$PROJECT/$GDSFILE\"\n",
        "}"
      ],
      "metadata": {
        "id": "-YDsClVCLAju"
      },
      "execution_count": null,
      "outputs": []
    },
    {
      "cell_type": "markdown",
      "source": [
        "Write cvcrc file"
      ],
      "metadata": {
        "id": "aTHW_6RkVWsu"
      }
    },
    {
      "cell_type": "code",
      "source": [
        "%%shell\n",
        "cat /content/env\n",
        "source /content/env\n",
        "cat > $WORK_ROOT/cvcrc <<EOF\n",
        "CVC_TOP = $LAYOUT_TOP\n",
        "CVC_NETLIST = $WORK_ROOT/ext/$LAYOUT_TOP.cdl.gz\n",
        "CVC_MODEL_FILE = $LVS_ROOT/tech/ihp-sg13g2/cvc.models\n",
        "CVC_POWER_FILE = $WORK_ROOT/cvc.power.$LAYOUT_TOP\n",
        "CVC_REPORT_FILE = $WORK_ROOT/cvc.log\n",
        "EOF\n",
        "\n",
        "cat > $WORK_ROOT/cvc.power.$LAYOUT_TOP <<EOF\n",
        "vss power 0.0\n",
        "vdd power 1.5\n",
        "EOF"
      ],
      "metadata": {
        "id": "yo8tcKW_S_qq"
      },
      "execution_count": null,
      "outputs": []
    },
    {
      "cell_type": "markdown",
      "source": [
        "Create the klayout CDL file from the magic source netlist."
      ],
      "metadata": {
        "id": "C3XdfvZNxxj_"
      }
    },
    {
      "cell_type": "code",
      "source": [
        "%%shell\n",
        "source /content/env\n",
        "sed -e '/^X[MRC]/s/.//' $SPICE_FILE > $KLAYOUT_CDL\n"
      ],
      "metadata": {
        "id": "5_9YQmdZx37P"
      },
      "execution_count": null,
      "outputs": []
    },
    {
      "cell_type": "markdown",
      "source": [
        "# Results for bandgap_ref_cmos"
      ],
      "metadata": {
        "id": "-K1lLKQpkhIm"
      }
    },
    {
      "cell_type": "markdown",
      "source": [
        "*   Pad text is on metal7 layer. This is not recognized on pads in magic. Either move the text to a region outside the pad, change the text layer to the PADID layer (41/0), or modify the magic extraction rules to recognize metal7 text on pads.\n",
        "*   Klayout extraction rules generate n/ptap devices for layout taps annotated with \"well\"/\"sub!\" text. The schematic does not include these devices. Either add the devices to the schematic or remove the \"well\" and \"sub!\" text from the layout.\n",
        "*   Ports do not match. Layout ports are vss, vdd, VBG, and iout. Netlist ports are GND, vdd, v+, v-, Vo1, and VBG. iout in the schematic is currently shorted to ground through an ammeter. Suggest removing v+, v-, Vo1 ports in schematic while adding iout port. Suggest changing GND from a global net to a port named vss in the schematic to match the layout.\n",
        "* Layout has 3 dummy pmos (gate and source connected to vdd) not found in the schematic. Suggest adding them to the schematic. Suggest adding the following to `two_stage_OTA`\n",
        "```\n",
        "XM_dummy net1 vdd vdd vdd sg13_lv_pmos l=3.7u w=3.64u ng=1 m=2\n",
        "XM_dummy2 vdd vdd net2 vdd sg13_lv_pmos l=3.7u w=3.64u ng=1 m=4\n",
        "XM_dummy3 net3 vdd vdd vdd sg13_lv_pmos l=3.7u w=3.64u ng=1 m=2\n",
        "```\n",
        "* cap_cmim connected between VBG and vss in the schematic is connected between vdd and vss in the layout. The schematic size is 72.965 x 72.965 but the layout size is 5x5 m=15.\n",
        "* R2 schematic size is 0.5/192.395 but layout is 0.71/38.645x7\n",
        "* R1 schematic size is 0.6/194.345 but layout consists of resistors of different widths. 3.0/38.645 and 0.5/38.645x4. Currently netgen and klayout only reduce resistors with the same widths."
      ],
      "metadata": {
        "id": "zfwoFmjlT5jO"
      }
    },
    {
      "cell_type": "markdown",
      "source": [
        "# Run BE checks"
      ],
      "metadata": {
        "id": "2GSDoZMDUbLh"
      }
    },
    {
      "cell_type": "code",
      "source": [
        "%%shell\n",
        "cat /content/env\n",
        "source /content/env\n",
        "# run_be_checks includes magic/netgen soft connection and LVS, and CVC-RV\n",
        "$LVS_ROOT/run_be_checks $WORK_ROOT/lvs_config.json\n",
        "\n",
        "python3 $PDK_ROOT/$PDK/libs.tech/klayout/tech/lvs/run_lvs.py --layout=$UPRJ_ROOT/$PROJECT/$GDSFILE \\\n",
        "  --netlist=$KLAYOUT_CDL \\\n",
        "  --run_dir=$WORK_ROOT/klayout \\\n",
        "  --topcell=$LAYOUT_TOP \\\n",
        "  --run_mode=deep \\\n",
        "  --spice_comments \\\n",
        "  --no_simplify \\\n",
        "  --combine_devices \\\n",
        "  --top_lvl_pins\n",
        "\n",
        "$LVS_ROOT/check_klayout_ports $WORK_ROOT/klayout/$TOP_LAYOUT.lvsdb > $WORK_ROOT/klayout/port_check.log\n",
        "if [[ -e $WORK_ROOT/klayout/port_check.log ]]; then\n",
        "  if [[ -s $WORK_ROOT/klayout/port_check.log ]]; then\n",
        "    echo \"* Klayout ports do not match *\"\n",
        "    echo \"layout     source\"\n",
        "    awk '{printf \"%10s %s\\n\", $1, $2}' $WORK_ROOT/klayout/port_check.log\n",
        "  else\n",
        "    echo \"Klayout ports match\"\n",
        "fi"
      ],
      "metadata": {
        "id": "RjDeWGKj1b2g"
      },
      "execution_count": null,
      "outputs": []
    },
    {
      "cell_type": "markdown",
      "source": [
        "# View verification logs"
      ],
      "metadata": {
        "id": "DeWIJuFndtvJ"
      }
    },
    {
      "cell_type": "code",
      "source": [
        "from google.colab import files\n",
        "\n",
        "files.view('/content/data/work/soft.log')\n",
        "files.view('/content/data/work/lvs.log')\n",
        "files.view('/content/data/work/cvc.log')"
      ],
      "metadata": {
        "id": "RihfaPqYxpuq"
      },
      "execution_count": null,
      "outputs": []
    },
    {
      "cell_type": "markdown",
      "source": [
        "# View soft verification report"
      ],
      "metadata": {
        "id": "BgzqD-4KjE9F"
      }
    },
    {
      "cell_type": "code",
      "source": [
        "from google.colab import files\n",
        "\n",
        "files.view('/content/data/work/soft.report')"
      ],
      "metadata": {
        "id": "DfG7DKXayaSi"
      },
      "execution_count": null,
      "outputs": []
    },
    {
      "cell_type": "markdown",
      "source": [
        "# View LVS report"
      ],
      "metadata": {
        "id": "ldCmn3atj1eq"
      }
    },
    {
      "cell_type": "code",
      "source": [
        "from google.colab import files\n",
        "\n",
        "files.view('/content/data/work/lvs.report')"
      ],
      "metadata": {
        "id": "UkUuHrX1jxdI"
      },
      "execution_count": null,
      "outputs": []
    },
    {
      "cell_type": "markdown",
      "source": [
        "# View CVC report"
      ],
      "metadata": {
        "id": "kJXQtZd1kKuj"
      }
    },
    {
      "cell_type": "code",
      "source": [
        "from google.colab import files\n",
        "\n",
        "files.view('/content/data/work/cvc.error')"
      ],
      "metadata": {
        "id": "l0mlcn6TkJ9z"
      },
      "execution_count": null,
      "outputs": []
    }
  ]
}